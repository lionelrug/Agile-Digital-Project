{
  "nbformat": 4,
  "nbformat_minor": 0,
  "metadata": {
    "colab": {
      "name": "Second_Gold_Price_ Prediction.ipynb",
      "provenance": [],
      "authorship_tag": "ABX9TyPzHVC7h5cozF8qS+bEiD9q",
      "include_colab_link": true
    },
    "kernelspec": {
      "name": "python3",
      "display_name": "Python 3"
    },
    "language_info": {
      "name": "python"
    }
  },
  "cells": [
    {
      "cell_type": "markdown",
      "metadata": {
        "id": "view-in-github",
        "colab_type": "text"
      },
      "source": [
        "<a href=\"https://colab.research.google.com/github/lionelrug/Agile-Digital-Project/blob/master/Second_Gold_Price__Prediction.ipynb\" target=\"_parent\"><img src=\"https://colab.research.google.com/assets/colab-badge.svg\" alt=\"Open In Colab\"/></a>"
      ]
    },
    {
      "cell_type": "markdown",
      "metadata": {
        "id": "bbINrMkVHlHM"
      },
      "source": [
        "Importing the Libraries\n"
      ]
    },
    {
      "cell_type": "code",
      "metadata": {
        "id": "MErqTVoIHooP"
      },
      "source": [
        "1 import numpy as np\n",
        "2 import pandas as pd\n",
        "3 import matplotlib.pyplot as plt\n",
        "4 import seaborn as sns\n",
        "5 from sklearn.model_selection import train_test_split\n",
        "6 from sklearn.ensemble import RandomForestRegressor\n",
        "7 from sklearn import metrics"
      ],
      "execution_count": null,
      "outputs": []
    },
    {
      "cell_type": "markdown",
      "metadata": {
        "id": "lDC4t1vfIuP2"
      },
      "source": [
        "Data Collection and Processing"
      ]
    },
    {
      "cell_type": "code",
      "metadata": {
        "id": "bE_vl2LRMGir"
      },
      "source": [
        "import pandas as pd\n",
        "\n",
        "gold_data = pd.read_csv('/content/gold_price_data.csv')"
      ],
      "execution_count": 14,
      "outputs": []
    },
    {
      "cell_type": "code",
      "metadata": {
        "colab": {
          "base_uri": "https://localhost:8080/",
          "height": 204
        },
        "id": "6YxNlIUdNkvM",
        "outputId": "aa6e893b-6722-4eed-d2ed-34870e44ccad"
      },
      "source": [
        "gold_data.head()"
      ],
      "execution_count": 16,
      "outputs": [
        {
          "output_type": "execute_result",
          "data": {
            "text/html": [
              "<div>\n",
              "<style scoped>\n",
              "    .dataframe tbody tr th:only-of-type {\n",
              "        vertical-align: middle;\n",
              "    }\n",
              "\n",
              "    .dataframe tbody tr th {\n",
              "        vertical-align: top;\n",
              "    }\n",
              "\n",
              "    .dataframe thead th {\n",
              "        text-align: right;\n",
              "    }\n",
              "</style>\n",
              "<table border=\"1\" class=\"dataframe\">\n",
              "  <thead>\n",
              "    <tr style=\"text-align: right;\">\n",
              "      <th></th>\n",
              "      <th>Date</th>\n",
              "      <th>SPX</th>\n",
              "      <th>GLD</th>\n",
              "      <th>USO</th>\n",
              "      <th>SLV</th>\n",
              "      <th>EUR/USD</th>\n",
              "    </tr>\n",
              "  </thead>\n",
              "  <tbody>\n",
              "    <tr>\n",
              "      <th>0</th>\n",
              "      <td>1/2/2008</td>\n",
              "      <td>1447.160034</td>\n",
              "      <td>84.860001</td>\n",
              "      <td>78.470001</td>\n",
              "      <td>15.180</td>\n",
              "      <td>1.471692</td>\n",
              "    </tr>\n",
              "    <tr>\n",
              "      <th>1</th>\n",
              "      <td>1/3/2008</td>\n",
              "      <td>1447.160034</td>\n",
              "      <td>85.570000</td>\n",
              "      <td>78.370003</td>\n",
              "      <td>15.285</td>\n",
              "      <td>1.474491</td>\n",
              "    </tr>\n",
              "    <tr>\n",
              "      <th>2</th>\n",
              "      <td>1/4/2008</td>\n",
              "      <td>1411.630005</td>\n",
              "      <td>85.129997</td>\n",
              "      <td>77.309998</td>\n",
              "      <td>15.167</td>\n",
              "      <td>1.475492</td>\n",
              "    </tr>\n",
              "    <tr>\n",
              "      <th>3</th>\n",
              "      <td>1/7/2008</td>\n",
              "      <td>1416.180054</td>\n",
              "      <td>84.769997</td>\n",
              "      <td>75.500000</td>\n",
              "      <td>15.053</td>\n",
              "      <td>1.468299</td>\n",
              "    </tr>\n",
              "    <tr>\n",
              "      <th>4</th>\n",
              "      <td>1/8/2008</td>\n",
              "      <td>1390.189941</td>\n",
              "      <td>86.779999</td>\n",
              "      <td>76.059998</td>\n",
              "      <td>15.590</td>\n",
              "      <td>1.557099</td>\n",
              "    </tr>\n",
              "  </tbody>\n",
              "</table>\n",
              "</div>"
            ],
            "text/plain": [
              "       Date          SPX        GLD        USO     SLV   EUR/USD\n",
              "0  1/2/2008  1447.160034  84.860001  78.470001  15.180  1.471692\n",
              "1  1/3/2008  1447.160034  85.570000  78.370003  15.285  1.474491\n",
              "2  1/4/2008  1411.630005  85.129997  77.309998  15.167  1.475492\n",
              "3  1/7/2008  1416.180054  84.769997  75.500000  15.053  1.468299\n",
              "4  1/8/2008  1390.189941  86.779999  76.059998  15.590  1.557099"
            ]
          },
          "metadata": {
            "tags": []
          },
          "execution_count": 16
        }
      ]
    },
    {
      "cell_type": "code",
      "metadata": {
        "colab": {
          "base_uri": "https://localhost:8080/",
          "height": 204
        },
        "id": "EdG7sI11OIOQ",
        "outputId": "10d56ec7-9295-4114-dfcd-5f13bfba6b3d"
      },
      "source": [
        "gold_data.tail()"
      ],
      "execution_count": 17,
      "outputs": [
        {
          "output_type": "execute_result",
          "data": {
            "text/html": [
              "<div>\n",
              "<style scoped>\n",
              "    .dataframe tbody tr th:only-of-type {\n",
              "        vertical-align: middle;\n",
              "    }\n",
              "\n",
              "    .dataframe tbody tr th {\n",
              "        vertical-align: top;\n",
              "    }\n",
              "\n",
              "    .dataframe thead th {\n",
              "        text-align: right;\n",
              "    }\n",
              "</style>\n",
              "<table border=\"1\" class=\"dataframe\">\n",
              "  <thead>\n",
              "    <tr style=\"text-align: right;\">\n",
              "      <th></th>\n",
              "      <th>Date</th>\n",
              "      <th>SPX</th>\n",
              "      <th>GLD</th>\n",
              "      <th>USO</th>\n",
              "      <th>SLV</th>\n",
              "      <th>EUR/USD</th>\n",
              "    </tr>\n",
              "  </thead>\n",
              "  <tbody>\n",
              "    <tr>\n",
              "      <th>2285</th>\n",
              "      <td>5/8/2018</td>\n",
              "      <td>2671.919922</td>\n",
              "      <td>124.589996</td>\n",
              "      <td>14.0600</td>\n",
              "      <td>15.5100</td>\n",
              "      <td>1.186789</td>\n",
              "    </tr>\n",
              "    <tr>\n",
              "      <th>2286</th>\n",
              "      <td>5/9/2018</td>\n",
              "      <td>2697.790039</td>\n",
              "      <td>124.330002</td>\n",
              "      <td>14.3700</td>\n",
              "      <td>15.5300</td>\n",
              "      <td>1.184722</td>\n",
              "    </tr>\n",
              "    <tr>\n",
              "      <th>2287</th>\n",
              "      <td>5/10/2018</td>\n",
              "      <td>2723.070068</td>\n",
              "      <td>125.180000</td>\n",
              "      <td>14.4100</td>\n",
              "      <td>15.7400</td>\n",
              "      <td>1.191753</td>\n",
              "    </tr>\n",
              "    <tr>\n",
              "      <th>2288</th>\n",
              "      <td>5/14/2018</td>\n",
              "      <td>2730.129883</td>\n",
              "      <td>124.489998</td>\n",
              "      <td>14.3800</td>\n",
              "      <td>15.5600</td>\n",
              "      <td>1.193118</td>\n",
              "    </tr>\n",
              "    <tr>\n",
              "      <th>2289</th>\n",
              "      <td>5/16/2018</td>\n",
              "      <td>2725.780029</td>\n",
              "      <td>122.543800</td>\n",
              "      <td>14.4058</td>\n",
              "      <td>15.4542</td>\n",
              "      <td>1.182033</td>\n",
              "    </tr>\n",
              "  </tbody>\n",
              "</table>\n",
              "</div>"
            ],
            "text/plain": [
              "           Date          SPX         GLD      USO      SLV   EUR/USD\n",
              "2285   5/8/2018  2671.919922  124.589996  14.0600  15.5100  1.186789\n",
              "2286   5/9/2018  2697.790039  124.330002  14.3700  15.5300  1.184722\n",
              "2287  5/10/2018  2723.070068  125.180000  14.4100  15.7400  1.191753\n",
              "2288  5/14/2018  2730.129883  124.489998  14.3800  15.5600  1.193118\n",
              "2289  5/16/2018  2725.780029  122.543800  14.4058  15.4542  1.182033"
            ]
          },
          "metadata": {
            "tags": []
          },
          "execution_count": 17
        }
      ]
    },
    {
      "cell_type": "code",
      "metadata": {
        "colab": {
          "base_uri": "https://localhost:8080/"
        },
        "id": "iwYWMH9aOXJj",
        "outputId": "adf32d1d-9180-40dc-bba2-820b5e0fe832"
      },
      "source": [
        "gold_data.shape"
      ],
      "execution_count": 18,
      "outputs": [
        {
          "output_type": "execute_result",
          "data": {
            "text/plain": [
              "(2290, 6)"
            ]
          },
          "metadata": {
            "tags": []
          },
          "execution_count": 18
        }
      ]
    },
    {
      "cell_type": "code",
      "metadata": {
        "colab": {
          "base_uri": "https://localhost:8080/"
        },
        "id": "TLnIJ-xnO-Kl",
        "outputId": "4f9d161c-f145-41bf-d8d5-e8cf92dcc5f7"
      },
      "source": [
        "gold_data.info()"
      ],
      "execution_count": 19,
      "outputs": [
        {
          "output_type": "stream",
          "text": [
            "<class 'pandas.core.frame.DataFrame'>\n",
            "RangeIndex: 2290 entries, 0 to 2289\n",
            "Data columns (total 6 columns):\n",
            " #   Column   Non-Null Count  Dtype  \n",
            "---  ------   --------------  -----  \n",
            " 0   Date     2290 non-null   object \n",
            " 1   SPX      2290 non-null   float64\n",
            " 2   GLD      2290 non-null   float64\n",
            " 3   USO      2290 non-null   float64\n",
            " 4   SLV      2290 non-null   float64\n",
            " 5   EUR/USD  2290 non-null   float64\n",
            "dtypes: float64(5), object(1)\n",
            "memory usage: 107.5+ KB\n"
          ],
          "name": "stdout"
        }
      ]
    },
    {
      "cell_type": "code",
      "metadata": {
        "colab": {
          "base_uri": "https://localhost:8080/"
        },
        "id": "B2QvzXfiPHtz",
        "outputId": "0076f0e0-4b30-4a90-9da3-04b44d4ea69f"
      },
      "source": [
        "gold_data.isnull().sum()"
      ],
      "execution_count": 20,
      "outputs": [
        {
          "output_type": "execute_result",
          "data": {
            "text/plain": [
              "Date       0\n",
              "SPX        0\n",
              "GLD        0\n",
              "USO        0\n",
              "SLV        0\n",
              "EUR/USD    0\n",
              "dtype: int64"
            ]
          },
          "metadata": {
            "tags": []
          },
          "execution_count": 20
        }
      ]
    },
    {
      "cell_type": "code",
      "metadata": {
        "colab": {
          "base_uri": "https://localhost:8080/",
          "height": 297
        },
        "id": "F_k26dIVPYCJ",
        "outputId": "c4371bb4-d694-46d3-8ddd-3ac50464cc30"
      },
      "source": [
        "gold_data.describe()"
      ],
      "execution_count": 21,
      "outputs": [
        {
          "output_type": "execute_result",
          "data": {
            "text/html": [
              "<div>\n",
              "<style scoped>\n",
              "    .dataframe tbody tr th:only-of-type {\n",
              "        vertical-align: middle;\n",
              "    }\n",
              "\n",
              "    .dataframe tbody tr th {\n",
              "        vertical-align: top;\n",
              "    }\n",
              "\n",
              "    .dataframe thead th {\n",
              "        text-align: right;\n",
              "    }\n",
              "</style>\n",
              "<table border=\"1\" class=\"dataframe\">\n",
              "  <thead>\n",
              "    <tr style=\"text-align: right;\">\n",
              "      <th></th>\n",
              "      <th>SPX</th>\n",
              "      <th>GLD</th>\n",
              "      <th>USO</th>\n",
              "      <th>SLV</th>\n",
              "      <th>EUR/USD</th>\n",
              "    </tr>\n",
              "  </thead>\n",
              "  <tbody>\n",
              "    <tr>\n",
              "      <th>count</th>\n",
              "      <td>2290.000000</td>\n",
              "      <td>2290.000000</td>\n",
              "      <td>2290.000000</td>\n",
              "      <td>2290.000000</td>\n",
              "      <td>2290.000000</td>\n",
              "    </tr>\n",
              "    <tr>\n",
              "      <th>mean</th>\n",
              "      <td>1654.315776</td>\n",
              "      <td>122.732875</td>\n",
              "      <td>31.842221</td>\n",
              "      <td>20.084997</td>\n",
              "      <td>1.283653</td>\n",
              "    </tr>\n",
              "    <tr>\n",
              "      <th>std</th>\n",
              "      <td>519.111540</td>\n",
              "      <td>23.283346</td>\n",
              "      <td>19.523517</td>\n",
              "      <td>7.092566</td>\n",
              "      <td>0.131547</td>\n",
              "    </tr>\n",
              "    <tr>\n",
              "      <th>min</th>\n",
              "      <td>676.530029</td>\n",
              "      <td>70.000000</td>\n",
              "      <td>7.960000</td>\n",
              "      <td>8.850000</td>\n",
              "      <td>1.039047</td>\n",
              "    </tr>\n",
              "    <tr>\n",
              "      <th>25%</th>\n",
              "      <td>1239.874969</td>\n",
              "      <td>109.725000</td>\n",
              "      <td>14.380000</td>\n",
              "      <td>15.570000</td>\n",
              "      <td>1.171313</td>\n",
              "    </tr>\n",
              "    <tr>\n",
              "      <th>50%</th>\n",
              "      <td>1551.434998</td>\n",
              "      <td>120.580002</td>\n",
              "      <td>33.869999</td>\n",
              "      <td>17.268500</td>\n",
              "      <td>1.303296</td>\n",
              "    </tr>\n",
              "    <tr>\n",
              "      <th>75%</th>\n",
              "      <td>2073.010070</td>\n",
              "      <td>132.840004</td>\n",
              "      <td>37.827501</td>\n",
              "      <td>22.882499</td>\n",
              "      <td>1.369971</td>\n",
              "    </tr>\n",
              "    <tr>\n",
              "      <th>max</th>\n",
              "      <td>2872.870117</td>\n",
              "      <td>184.589996</td>\n",
              "      <td>117.480003</td>\n",
              "      <td>47.259998</td>\n",
              "      <td>1.598798</td>\n",
              "    </tr>\n",
              "  </tbody>\n",
              "</table>\n",
              "</div>"
            ],
            "text/plain": [
              "               SPX          GLD          USO          SLV      EUR/USD\n",
              "count  2290.000000  2290.000000  2290.000000  2290.000000  2290.000000\n",
              "mean   1654.315776   122.732875    31.842221    20.084997     1.283653\n",
              "std     519.111540    23.283346    19.523517     7.092566     0.131547\n",
              "min     676.530029    70.000000     7.960000     8.850000     1.039047\n",
              "25%    1239.874969   109.725000    14.380000    15.570000     1.171313\n",
              "50%    1551.434998   120.580002    33.869999    17.268500     1.303296\n",
              "75%    2073.010070   132.840004    37.827501    22.882499     1.369971\n",
              "max    2872.870117   184.589996   117.480003    47.259998     1.598798"
            ]
          },
          "metadata": {
            "tags": []
          },
          "execution_count": 21
        }
      ]
    },
    {
      "cell_type": "code",
      "metadata": {
        "id": "3Yjx5Rk5RM48"
      },
      "source": [
        "correlation = gold_data.corr()"
      ],
      "execution_count": 33,
      "outputs": []
    },
    {
      "cell_type": "code",
      "metadata": {
        "colab": {
          "base_uri": "https://localhost:8080/",
          "height": 51
        },
        "id": "lgD9iPBkUNTs",
        "outputId": "ce170589-2970-4dcf-9e8d-6ffed1c64907"
      },
      "source": [
        "import matplotlib.pyplot as plt\n",
        "\n",
        "plt.figure(figsize = (8,8))"
      ],
      "execution_count": 36,
      "outputs": [
        {
          "output_type": "execute_result",
          "data": {
            "text/plain": [
              "<Figure size 576x576 with 0 Axes>"
            ]
          },
          "metadata": {
            "tags": []
          },
          "execution_count": 36
        },
        {
          "output_type": "display_data",
          "data": {
            "text/plain": [
              "<Figure size 576x576 with 0 Axes>"
            ]
          },
          "metadata": {
            "tags": []
          }
        }
      ]
    },
    {
      "cell_type": "code",
      "metadata": {
        "colab": {
          "base_uri": "https://localhost:8080/",
          "height": 289
        },
        "id": "kfeuH6cWUUnA",
        "outputId": "883418d1-a306-4791-c2c3-542a2b85f20b"
      },
      "source": [
        " import seaborn as sns\n",
        "sns.heatmap(correlation,cbar=True, square=True, fmt='.1f', annot=True, annot_kws= {'size':8}, cmap='Blues')"
      ],
      "execution_count": 38,
      "outputs": [
        {
          "output_type": "execute_result",
          "data": {
            "text/plain": [
              "<matplotlib.axes._subplots.AxesSubplot at 0x7fe2012515d0>"
            ]
          },
          "metadata": {
            "tags": []
          },
          "execution_count": 38
        },
        {
          "output_type": "display_data",
          "data": {
            "image/png": "[encoded data removed]",
            "text/plain": [
              "<Figure size 432x288 with 2 Axes>"
            ]
          },
          "metadata": {
            "tags": [],
            "needs_background": "light"
          }
        }
      ]
    },
    {
      "cell_type": "code",
      "metadata": {
        "colab": {
          "base_uri": "https://localhost:8080/"
        },
        "id": "cEuBA7AVUwsk",
        "outputId": "a3833e74-64b5-4e4d-ffa6-8942633bfe8a"
      },
      "source": [
        "print(correlation['GLD'])"
      ],
      "execution_count": 39,
      "outputs": [
        {
          "output_type": "stream",
          "text": [
            "SPX        0.049345\n",
            "GLD        1.000000\n",
            "USO       -0.186360\n",
            "SLV        0.866632\n",
            "EUR/USD   -0.024375\n",
            "Name: GLD, dtype: float64\n"
          ],
          "name": "stdout"
        }
      ]
    },
    {
      "cell_type": "code",
      "metadata": {
        "colab": {
          "base_uri": "https://localhost:8080/",
          "height": 354
        },
        "id": "4DahVJQLWzek",
        "outputId": "1adfb5d1-8beb-409a-8b34-cb9f56f84332"
      },
      "source": [
        "sns.distplot(gold_data['GLD'], color='red')"
      ],
      "execution_count": 40,
      "outputs": [
        {
          "output_type": "stream",
          "text": [
            "/usr/local/lib/python3.7/dist-packages/seaborn/distributions.py:2557: FutureWarning: `distplot` is a deprecated function and will be removed in a future version. Please adapt your code to use either `displot` (a figure-level function with similar flexibility) or `histplot` (an axes-level function for histograms).\n",
            "  warnings.warn(msg, FutureWarning)\n"
          ],
          "name": "stderr"
        },
        {
          "output_type": "execute_result",
          "data": {
            "text/plain": [
              "<matplotlib.axes._subplots.AxesSubplot at 0x7fe1e6f34b10>"
            ]
          },
          "metadata": {
            "tags": []
          },
          "execution_count": 40
        },
        {
          "output_type": "display_data",
          "data": {
            "image/png": "[encoded data removed]",
            "text/plain": [
              "<Figure size 432x288 with 1 Axes>"
            ]
          },
          "metadata": {
            "tags": [],
            "needs_background": "light"
          }
        }
      ]
    },
    {
      "cell_type": "code",
      "metadata": {
        "id": "ptl1wfe4Zrvb"
      },
      "source": [
        "X = gold_data.drop(['Date' , 'GLD'], axis=1 )\n",
        "Y = gold_data['GLD']"
      ],
      "execution_count": 49,
      "outputs": []
    },
    {
      "cell_type": "code",
      "metadata": {
        "colab": {
          "base_uri": "https://localhost:8080/"
        },
        "id": "jyxtGXZigS-r",
        "outputId": "2998b067-1e91-4514-988a-fcbd775403ed"
      },
      "source": [
        "print(Y)"
      ],
      "execution_count": 50,
      "outputs": [
        {
          "output_type": "stream",
          "text": [
            "0        84.860001\n",
            "1        85.570000\n",
            "2        85.129997\n",
            "3        84.769997\n",
            "4        86.779999\n",
            "           ...    \n",
            "2285    124.589996\n",
            "2286    124.330002\n",
            "2287    125.180000\n",
            "2288    124.489998\n",
            "2289    122.543800\n",
            "Name: GLD, Length: 2290, dtype: float64\n"
          ],
          "name": "stdout"
        }
      ]
    },
    {
      "cell_type": "code",
      "metadata": {
        "id": "YyfK9YQ1gY3W"
      },
      "source": [
        "from sklearn.model_selection import train_test_split\n",
        "\n",
        "X_train, X_test, Y_train, Y_test = train_test_split(X, Y, test_size = 0.2, random_state=2)"
      ],
      "execution_count": 53,
      "outputs": []
    },
    {
      "cell_type": "code",
      "metadata": {
        "id": "kfooAKDAhlTp"
      },
      "source": [
        "from sklearn.ensemble import RandomForestRegressor\n",
        "\n",
        "regressor = RandomForestRegressor(n_estimators=100)"
      ],
      "execution_count": 59,
      "outputs": []
    },
    {
      "cell_type": "code",
      "metadata": {
        "colab": {
          "base_uri": "https://localhost:8080/"
        },
        "id": "ZOWsQS_WiWQQ",
        "outputId": "66aba856-8917-4109-b76a-78d94a38b184"
      },
      "source": [
        "regressor.fit(X_train, Y_train)"
      ],
      "execution_count": 60,
      "outputs": [
        {
          "output_type": "execute_result",
          "data": {
            "text/plain": [
              "RandomForestRegressor(bootstrap=True, ccp_alpha=0.0, criterion='mse',\n",
              "                      max_depth=None, max_features='auto', max_leaf_nodes=None,\n",
              "                      max_samples=None, min_impurity_decrease=0.0,\n",
              "                      min_impurity_split=None, min_samples_leaf=1,\n",
              "                      min_samples_split=2, min_weight_fraction_leaf=0.0,\n",
              "                      n_estimators=100, n_jobs=None, oob_score=False,\n",
              "                      random_state=None, verbose=0, warm_start=False)"
            ]
          },
          "metadata": {
            "tags": []
          },
          "execution_count": 60
        }
      ]
    },
    {
      "cell_type": "code",
      "metadata": {
        "id": "151xIZCxi7cb"
      },
      "source": [
        "test_data_prediction = regressor.predict(X_test)"
      ],
      "execution_count": 62,
      "outputs": []
    },
    {
      "cell_type": "code",
      "metadata": {
        "colab": {
          "base_uri": "https://localhost:8080/"
        },
        "id": "eRU5mzhtjZdt",
        "outputId": "99e4c6c8-0210-4c86-e7fc-31220b6a54a6"
      },
      "source": [
        "print(test_data_prediction)"
      ],
      "execution_count": 63,
      "outputs": [
        {
          "output_type": "stream",
          "text": [
            "[168.42699866  81.85709999 115.95599996 127.48960052 120.89160121\n",
            " 154.63889689 150.30309719 126.3171002  117.34559889 125.95280116\n",
            " 116.74160111 172.66770079 142.01569815 167.83689903 115.2539002\n",
            " 117.85180045 137.38610336 170.03950047 159.64380213 154.204899\n",
            " 155.14499994 124.96880022 175.35539953 157.00910357 125.18690045\n",
            "  93.8264995   77.4624     120.51510017 119.04949959 167.50149979\n",
            "  88.3211003  125.26209997  91.1100007  117.69690005 121.02359944\n",
            " 136.34740072 115.21040123 115.0790003  146.29109922 107.23040093\n",
            " 104.5290025   87.30599813 126.59860036 117.91060005 153.44189865\n",
            " 119.61899982 108.28170002 108.14869871  93.14380052 127.01509813\n",
            "  74.55220047 113.53489899 121.20610032 111.20069889 118.97079902\n",
            " 120.84299934 159.34219979 168.18310121 147.08129665  85.77009837\n",
            "  94.38820047  86.83869881  90.76249999 118.98190077 126.37000043\n",
            " 127.48270041 169.98650021 122.22099925 117.392999    98.64730051\n",
            " 168.80990202 143.06419822 132.04280253 121.22380228 121.51729921\n",
            " 119.52010075 114.4665014  118.28910039 107.21260113 127.92090012\n",
            " 114.00929972 106.99409982 116.91920056 119.48929901  89.06150064\n",
            "  88.16149858 146.72610212 127.37730026 113.35220062 110.40269855\n",
            " 108.18539927  77.55329891 168.0487009  114.02769904 121.72399893\n",
            " 127.95370159 154.97849851  91.5608989  137.22650151 159.08600353\n",
            " 125.93130042 125.30160088 130.63520173 114.86240101 119.79500029\n",
            "  92.19039977 110.15379892 166.81439968 158.07989836 114.24019952\n",
            " 106.37100147  79.67149994 113.1807007  125.85740053 107.29669923\n",
            " 119.44570074 155.49000349 160.00269875 120.27339982 134.42810297\n",
            " 101.4566997  117.68949781 119.25680003 112.91650056 102.75529909\n",
            " 160.39249808  99.17450062 146.67629901 125.51760098 170.16899994\n",
            " 125.72509829 127.30089726 127.40690167 113.59329981 112.93810074\n",
            " 123.60609902 102.04489878  89.47999934 124.60349972 102.01779918\n",
            " 107.03339943 113.55830014 117.17040078  99.23969961 121.51030044\n",
            " 163.34439946  87.45789845 107.04089983 117.14360084 127.6667012\n",
            " 123.87040061  80.50699926 120.40130088 158.7895978   87.87989989\n",
            " 110.27319957 118.84149916 173.30959862 102.88219941 105.23400038\n",
            " 122.64330022 158.6872978   87.49599844  93.18130057 112.52250042\n",
            " 177.59909962 114.50719974 119.05339979  94.62990077 125.89100025\n",
            " 166.40940163 114.75660068 116.60380141  88.21469862 148.98750106\n",
            " 120.34669977  89.71180017 112.51260001 116.92900054 118.89270105\n",
            "  87.97969933  94.15639987 117.10100041 118.60720175 120.2339002\n",
            " 126.65539829 121.92769984 151.10360017 164.77850085 118.66459973\n",
            " 120.47590169 151.82020107 118.49309912 173.16559928 105.60189944\n",
            " 104.97450112 149.82920149 113.66560022 124.77620094 147.51159991\n",
            " 119.66090092 115.30380072 112.59799987 113.27380219 142.1246017\n",
            " 117.77019769 102.87680033 115.84790073 104.04760201  98.82650036\n",
            " 117.27790074  90.79050012  91.72440025 153.74519905 102.69009994\n",
            " 154.93020099 114.32330164 138.54990132  90.1774983  115.53589964\n",
            " 114.24359985 122.83330044 121.85640022 165.4849017   92.84399949\n",
            " 135.47010116 121.42959912 120.82040035 104.70040015 141.28110277\n",
            " 121.50849899 116.70450034 113.5563008  127.19999772 122.85849932\n",
            " 125.7043993  121.26630036  86.91739905 132.63880176 144.49040252\n",
            "  92.74129916 160.28189997 159.41530222 126.05799977 165.20959915\n",
            " 108.94209971 109.70520076 103.69069845  94.28840066 127.63190238\n",
            " 106.89310068 162.18029991 121.54950035 131.96480021 130.67250124\n",
            " 160.41179952  90.15189841 175.13140281 127.29140093 126.71749867\n",
            "  86.41629956 124.51399974 150.08579717  89.66880025 107.23019978\n",
            " 109.03869961  84.060599   136.38799981 155.1096025  139.65290381\n",
            "  74.07700024 152.73940125 126.14010076 126.74179961 127.51479939\n",
            " 108.70819921 156.24990103 114.55850101 116.96530135 125.38789914\n",
            " 153.91470161 121.14430027 156.47669836  92.97260066 125.5141013\n",
            " 125.68290048  87.92550043  92.24329935 126.32549953 127.96610328\n",
            " 113.14790046 117.8963976  121.01289999 127.2835976  119.49810189\n",
            " 136.09220113  94.0414991  119.98150061 113.28000126  94.24459917\n",
            " 108.89689985  87.39979915 109.11869939  89.53600002  92.22130036\n",
            " 131.70230346 162.51030069  89.27960005 119.66400078 133.40920209\n",
            " 123.80889999 128.07670174 101.83649846  88.98089887 131.43310087\n",
            " 120.17570091 108.6728999  167.59570087 115.22930043  86.62799929\n",
            " 118.87370062  91.09329973 161.86110052 116.41940029 121.51400027\n",
            " 160.17549772 120.30529931 113.16209925 108.50299859 126.74679987\n",
            "  75.79320049 103.03869998 127.7721021  121.92879923  92.60989974\n",
            " 131.95110063 118.14300132 116.28919984 154.68940286 159.07200047\n",
            " 110.10409992 153.2507975  119.47590074 160.69720126 118.51420019\n",
            " 159.31049858 115.1736997  116.5153004  148.30469914 114.68650085\n",
            " 125.63649885 164.82369904 117.60300011 124.99529931 153.29850342\n",
            " 153.40290201 132.17700039 114.69830063 121.11150235 124.8183004\n",
            "  90.06469986 123.07690051 154.73960221 111.80120055 106.85399959\n",
            " 161.33750066 118.50019966 165.66090068 133.99170076 114.85089958\n",
            " 152.92259884 168.75099946 114.89839993 114.09830097 157.74609866\n",
            "  85.44819891 127.11180082 127.93990072 128.9837998  124.26410064\n",
            " 123.94970048  91.06230061 153.3352003   97.20529985 137.70030002\n",
            "  89.10899964 107.04459992 115.05150066 112.75750087 124.32699907\n",
            "  91.44689885 125.32580115 162.43959882 120.03929886 165.34750088\n",
            " 126.62719803 112.58730023 127.62409917  94.85119891  91.01249992\n",
            " 103.15929891 120.84889998  82.62319967 126.41680027 160.37720424\n",
            " 117.34620083 118.25019991 119.82840006 122.40219919 120.12450133\n",
            " 121.5214     118.1773007  107.00850014 148.57390039 126.26369773\n",
            " 115.64580083  73.61689994 127.80850071 153.83550071 122.0184999\n",
            " 125.60200049  88.99270032 102.74069828 124.63210049 120.32900063\n",
            "  73.13320077 151.27569988 121.19650054 104.74810022  86.50609772\n",
            " 115.11629872 172.14549804 119.80580022 160.9276975  113.21819957\n",
            " 121.10470038 118.7610013   95.95829991 118.74580032 125.9187999\n",
            " 118.6009997   95.93000112 153.48430177 121.96290042 147.03550029\n",
            " 159.35370276 113.71979999 122.42609954 151.36619875 127.07760004\n",
            " 165.62950061 135.89030048 120.05229965 167.2839991  108.34229965\n",
            " 121.71079832 138.13560065 105.95019888]\n"
          ],
          "name": "stdout"
        }
      ]
    },
    {
      "cell_type": "code",
      "metadata": {
        "colab": {
          "base_uri": "https://localhost:8080/"
        },
        "id": "zrutgOnhkvNo",
        "outputId": "e9c760a9-7c12-4ff2-d200-117697e6d0d1"
      },
      "source": [
        "from sklearn import metrics\n",
        "error_score = metrics.r2_score(Y_test, test_data_prediction)\n",
        "print(\"R squared: \" ,error_score)"
      ],
      "execution_count": 71,
      "outputs": [
        {
          "output_type": "stream",
          "text": [
            "R squared:  0.9886800234691755\n"
          ],
          "name": "stdout"
        }
      ]
    },
    {
      "cell_type": "code",
      "metadata": {
        "id": "GuUU0u_IoYyf"
      },
      "source": [
        "Y_test = list(Y_test)"
      ],
      "execution_count": 72,
      "outputs": []
    },
    {
      "cell_type": "code",
      "metadata": {
        "colab": {
          "base_uri": "https://localhost:8080/",
          "height": 295
        },
        "id": "agnjNDPqqXV8",
        "outputId": "f06f0bee-048f-404f-e4df-24487b1d45b6"
      },
      "source": [
        "plt.plot(Y_test, color='Blue', label = 'Actual Value')\n",
        "plt.plot(test_data_prediction, color='green', label = 'Predicted Value')\n",
        "plt.title('Actual Price Vs Predicted Price')\n",
        "plt.xlabel('Number of values')\n",
        "plt.ylabel('GLD_Price')\n",
        "plt.legend()\n",
        "plt.show()"
      ],
      "execution_count": 76,
      "outputs": [
        {
          "output_type": "display_data",
          "data": {
            "image/png": "[encoded data removed]",
            "text/plain": [
              "<Figure size 432x288 with 1 Axes>"
            ]
          },
          "metadata": {
            "tags": [],
            "needs_background": "light"
          }
        }
      ]
    },
    {
      "cell_type": "code",
      "metadata": {
        "id": "GG-y0wvir6sM"
      },
      "source": [
        ""
      ],
      "execution_count": null,
      "outputs": []
    }
  ]
}