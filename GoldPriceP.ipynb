{
  "nbformat": 4,
  "nbformat_minor": 0,
  "metadata": {
    "colab": {
      "name": "GoldPriceP.ipynb",
      "provenance": [],
      "authorship_tag": "ABX9TyMPpb1KZrMcEnuvWKYVMKDA",
      "include_colab_link": true
    },
    "kernelspec": {
      "name": "python3",
      "display_name": "Python 3"
    },
    "language_info": {
      "name": "python"
    }
  },
  "cells": [
    {
      "cell_type": "markdown",
      "metadata": {
        "id": "view-in-github",
        "colab_type": "text"
      },
      "source": [
        "<a href=\"https://colab.research.google.com/github/lionelrug/Agile-Digital-Project/blob/master/GoldPriceP.ipynb\" target=\"_parent\"><img src=\"https://colab.research.google.com/assets/colab-badge.svg\" alt=\"Open In Colab\"/></a>"
      ]
    },
    {
      "cell_type": "markdown",
      "metadata": {
        "id": "Izp8yRntQfrX"
      },
      "source": [
        "IMPORTING THE LIBRARIES"
      ]
    },
    {
      "cell_type": "code",
      "metadata": {
        "id": "8vvg1HTaQnMm"
      },
      "source": [
        "import numpy as np\n",
        "import pandas as pd\n",
        "import seaborn as sns\n",
        "import matplotlib.pyplot as plt\n",
        "from sklearn.model_selection import train_test_split\n",
        "from sklearn.ensemble import RandomForestRegressor\n",
        "from sklearn import metrics"
      ],
      "execution_count": null,
      "outputs": []
    },
    {
      "cell_type": "code",
      "metadata": {
        "id": "tECv3Jt-Qo-n"
      },
      "source": [
        "import pandas as pd\n",
        "\n",
        "gold_data = pd.read_csv('/content/GP_Sept.csv')"
      ],
      "execution_count": 40,
      "outputs": []
    },
    {
      "cell_type": "code",
      "metadata": {
        "colab": {
          "base_uri": "https://localhost:8080/",
          "height": 204
        },
        "id": "erk8PIxyRIC8",
        "outputId": "bc67d44e-f5bd-43b8-e050-cbec44aada5c"
      },
      "source": [
        "gold_data.head()"
      ],
      "execution_count": 41,
      "outputs": [
        {
          "output_type": "execute_result",
          "data": {
            "text/html": [
              "<div>\n",
              "<style scoped>\n",
              "    .dataframe tbody tr th:only-of-type {\n",
              "        vertical-align: middle;\n",
              "    }\n",
              "\n",
              "    .dataframe tbody tr th {\n",
              "        vertical-align: top;\n",
              "    }\n",
              "\n",
              "    .dataframe thead th {\n",
              "        text-align: right;\n",
              "    }\n",
              "</style>\n",
              "<table border=\"1\" class=\"dataframe\">\n",
              "  <thead>\n",
              "    <tr style=\"text-align: right;\">\n",
              "      <th></th>\n",
              "      <th>DATE</th>\n",
              "      <th>FR</th>\n",
              "      <th>INFL</th>\n",
              "      <th>M2</th>\n",
              "      <th>GLD</th>\n",
              "      <th>RIR</th>\n",
              "      <th>US/EURO</th>\n",
              "    </tr>\n",
              "  </thead>\n",
              "  <tbody>\n",
              "    <tr>\n",
              "      <th>0</th>\n",
              "      <td>01/01/1991</td>\n",
              "      <td>5.53</td>\n",
              "      <td>5.65</td>\n",
              "      <td>3.82</td>\n",
              "      <td>392.75</td>\n",
              "      <td>3.72</td>\n",
              "      <td>1.3772</td>\n",
              "    </tr>\n",
              "    <tr>\n",
              "      <th>1</th>\n",
              "      <td>01/02/1991</td>\n",
              "      <td>7.85</td>\n",
              "      <td>5.65</td>\n",
              "      <td>3.82</td>\n",
              "      <td>390.8</td>\n",
              "      <td>3.72</td>\n",
              "      <td>1.3773</td>\n",
              "    </tr>\n",
              "    <tr>\n",
              "      <th>2</th>\n",
              "      <td>01/03/1991</td>\n",
              "      <td>7.18</td>\n",
              "      <td>5.65</td>\n",
              "      <td>3.82</td>\n",
              "      <td>386.3</td>\n",
              "      <td>3.72</td>\n",
              "      <td>1.3777</td>\n",
              "    </tr>\n",
              "    <tr>\n",
              "      <th>3</th>\n",
              "      <td>01/04/1991</td>\n",
              "      <td>6.52</td>\n",
              "      <td>5.65</td>\n",
              "      <td>3.82</td>\n",
              "      <td>387.4</td>\n",
              "      <td>3.72</td>\n",
              "      <td>1.3675</td>\n",
              "    </tr>\n",
              "    <tr>\n",
              "      <th>4</th>\n",
              "      <td>01/07/1991</td>\n",
              "      <td>6.26</td>\n",
              "      <td>5.65</td>\n",
              "      <td>3.82</td>\n",
              "      <td>391.1</td>\n",
              "      <td>3.72</td>\n",
              "      <td>1.3465</td>\n",
              "    </tr>\n",
              "  </tbody>\n",
              "</table>\n",
              "</div>"
            ],
            "text/plain": [
              "         DATE    FR  INFL    M2     GLD   RIR  US/EURO\n",
              "0  01/01/1991  5.53  5.65  3.82  392.75  3.72   1.3772\n",
              "1  01/02/1991  7.85  5.65  3.82   390.8  3.72   1.3773\n",
              "2  01/03/1991  7.18  5.65  3.82   386.3  3.72   1.3777\n",
              "3  01/04/1991  6.52  5.65  3.82   387.4  3.72   1.3675\n",
              "4  01/07/1991  6.26  5.65  3.82   391.1  3.72   1.3465"
            ]
          },
          "metadata": {},
          "execution_count": 41
        }
      ]
    },
    {
      "cell_type": "code",
      "metadata": {
        "colab": {
          "base_uri": "https://localhost:8080/",
          "height": 204
        },
        "id": "jxaNtVYkRPp8",
        "outputId": "57690c3c-a21d-49b4-deec-5b6f6f2888f8"
      },
      "source": [
        "gold_data.tail()"
      ],
      "execution_count": 42,
      "outputs": [
        {
          "output_type": "execute_result",
          "data": {
            "text/html": [
              "<div>\n",
              "<style scoped>\n",
              "    .dataframe tbody tr th:only-of-type {\n",
              "        vertical-align: middle;\n",
              "    }\n",
              "\n",
              "    .dataframe tbody tr th {\n",
              "        vertical-align: top;\n",
              "    }\n",
              "\n",
              "    .dataframe thead th {\n",
              "        text-align: right;\n",
              "    }\n",
              "</style>\n",
              "<table border=\"1\" class=\"dataframe\">\n",
              "  <thead>\n",
              "    <tr style=\"text-align: right;\">\n",
              "      <th></th>\n",
              "      <th>DATE</th>\n",
              "      <th>FR</th>\n",
              "      <th>INFL</th>\n",
              "      <th>M2</th>\n",
              "      <th>GLD</th>\n",
              "      <th>RIR</th>\n",
              "      <th>US/EURO</th>\n",
              "    </tr>\n",
              "  </thead>\n",
              "  <tbody>\n",
              "    <tr>\n",
              "      <th>7994</th>\n",
              "      <td>08/25/2021</td>\n",
              "      <td>0.08</td>\n",
              "      <td>5.4</td>\n",
              "      <td>13.91</td>\n",
              "      <td>1709.13</td>\n",
              "      <td>-1.67</td>\n",
              "      <td>1.1739</td>\n",
              "    </tr>\n",
              "    <tr>\n",
              "      <th>7995</th>\n",
              "      <td>08/26/2021</td>\n",
              "      <td>0.08</td>\n",
              "      <td>5.4</td>\n",
              "      <td>13.91</td>\n",
              "      <td>1792.16</td>\n",
              "      <td>-1.66</td>\n",
              "      <td>1.1766</td>\n",
              "    </tr>\n",
              "    <tr>\n",
              "      <th>7996</th>\n",
              "      <td>08/27/2021</td>\n",
              "      <td>0.08</td>\n",
              "      <td>5.4</td>\n",
              "      <td>13.91</td>\n",
              "      <td>1816.52</td>\n",
              "      <td>-1.74</td>\n",
              "      <td>1.1750</td>\n",
              "    </tr>\n",
              "    <tr>\n",
              "      <th>7997</th>\n",
              "      <td>08/30/2021</td>\n",
              "      <td>0.08</td>\n",
              "      <td>5.4</td>\n",
              "      <td>13.91</td>\n",
              "      <td>1809.45</td>\n",
              "      <td>-1.74</td>\n",
              "      <td>1.1799</td>\n",
              "    </tr>\n",
              "    <tr>\n",
              "      <th>7998</th>\n",
              "      <td>08/31/2021</td>\n",
              "      <td>0.08</td>\n",
              "      <td>5.4</td>\n",
              "      <td>13.91</td>\n",
              "      <td>1813.42</td>\n",
              "      <td>-1.71</td>\n",
              "      <td>1.1809</td>\n",
              "    </tr>\n",
              "  </tbody>\n",
              "</table>\n",
              "</div>"
            ],
            "text/plain": [
              "            DATE    FR  INFL     M2      GLD   RIR  US/EURO\n",
              "7994  08/25/2021  0.08   5.4  13.91  1709.13 -1.67   1.1739\n",
              "7995  08/26/2021  0.08   5.4  13.91  1792.16 -1.66   1.1766\n",
              "7996  08/27/2021  0.08   5.4  13.91  1816.52 -1.74   1.1750\n",
              "7997  08/30/2021  0.08   5.4  13.91  1809.45 -1.74   1.1799\n",
              "7998  08/31/2021  0.08   5.4  13.91  1813.42 -1.71   1.1809"
            ]
          },
          "metadata": {},
          "execution_count": 42
        }
      ]
    },
    {
      "cell_type": "code",
      "metadata": {
        "colab": {
          "base_uri": "https://localhost:8080/"
        },
        "id": "D2s_ycSjRT10",
        "outputId": "2b3a4bcd-e40d-4f3a-e7bc-1d04b1c3c991"
      },
      "source": [
        "gold_data.info()"
      ],
      "execution_count": 43,
      "outputs": [
        {
          "output_type": "stream",
          "name": "stdout",
          "text": [
            "<class 'pandas.core.frame.DataFrame'>\n",
            "RangeIndex: 7999 entries, 0 to 7998\n",
            "Data columns (total 7 columns):\n",
            " #   Column   Non-Null Count  Dtype  \n",
            "---  ------   --------------  -----  \n",
            " 0   DATE     7999 non-null   object \n",
            " 1   FR       7999 non-null   float64\n",
            " 2   INFL     7999 non-null   float64\n",
            " 3   M2       7999 non-null   float64\n",
            " 4   GLD      7999 non-null   object \n",
            " 5   RIR      7999 non-null   float64\n",
            " 6   US/EURO  7999 non-null   float64\n",
            "dtypes: float64(5), object(2)\n",
            "memory usage: 437.6+ KB\n"
          ]
        }
      ]
    },
    {
      "cell_type": "code",
      "metadata": {
        "colab": {
          "base_uri": "https://localhost:8080/"
        },
        "id": "KmGlabj1RZcP",
        "outputId": "f220cd69-5b6d-4b41-c18f-b91134fe9372"
      },
      "source": [
        "gold_data.isnull().sum()"
      ],
      "execution_count": 44,
      "outputs": [
        {
          "output_type": "execute_result",
          "data": {
            "text/plain": [
              "DATE       0\n",
              "FR         0\n",
              "INFL       0\n",
              "M2         0\n",
              "GLD        0\n",
              "RIR        0\n",
              "US/EURO    0\n",
              "dtype: int64"
            ]
          },
          "metadata": {},
          "execution_count": 44
        }
      ]
    },
    {
      "cell_type": "code",
      "metadata": {
        "colab": {
          "base_uri": "https://localhost:8080/",
          "height": 410
        },
        "id": "bHoPeofNRgT4",
        "outputId": "86230624-0672-4c9a-9946-38239d8464c9"
      },
      "source": [
        "gold_data.describe(include = 'all')"
      ],
      "execution_count": 45,
      "outputs": [
        {
          "output_type": "execute_result",
          "data": {
            "text/html": [
              "<div>\n",
              "<style scoped>\n",
              "    .dataframe tbody tr th:only-of-type {\n",
              "        vertical-align: middle;\n",
              "    }\n",
              "\n",
              "    .dataframe tbody tr th {\n",
              "        vertical-align: top;\n",
              "    }\n",
              "\n",
              "    .dataframe thead th {\n",
              "        text-align: right;\n",
              "    }\n",
              "</style>\n",
              "<table border=\"1\" class=\"dataframe\">\n",
              "  <thead>\n",
              "    <tr style=\"text-align: right;\">\n",
              "      <th></th>\n",
              "      <th>DATE</th>\n",
              "      <th>FR</th>\n",
              "      <th>INFL</th>\n",
              "      <th>M2</th>\n",
              "      <th>GLD</th>\n",
              "      <th>RIR</th>\n",
              "      <th>US/EURO</th>\n",
              "    </tr>\n",
              "  </thead>\n",
              "  <tbody>\n",
              "    <tr>\n",
              "      <th>count</th>\n",
              "      <td>7999</td>\n",
              "      <td>7999.000000</td>\n",
              "      <td>7999.000000</td>\n",
              "      <td>7999.000000</td>\n",
              "      <td>7999</td>\n",
              "      <td>7999.000000</td>\n",
              "      <td>7999.00000</td>\n",
              "    </tr>\n",
              "    <tr>\n",
              "      <th>unique</th>\n",
              "      <td>7999</td>\n",
              "      <td>NaN</td>\n",
              "      <td>NaN</td>\n",
              "      <td>NaN</td>\n",
              "      <td>5507</td>\n",
              "      <td>NaN</td>\n",
              "      <td>NaN</td>\n",
              "    </tr>\n",
              "    <tr>\n",
              "      <th>top</th>\n",
              "      <td>12/14/1998</td>\n",
              "      <td>NaN</td>\n",
              "      <td>NaN</td>\n",
              "      <td>NaN</td>\n",
              "      <td>369.25</td>\n",
              "      <td>NaN</td>\n",
              "      <td>NaN</td>\n",
              "    </tr>\n",
              "    <tr>\n",
              "      <th>freq</th>\n",
              "      <td>1</td>\n",
              "      <td>NaN</td>\n",
              "      <td>NaN</td>\n",
              "      <td>NaN</td>\n",
              "      <td>11</td>\n",
              "      <td>NaN</td>\n",
              "      <td>NaN</td>\n",
              "    </tr>\n",
              "    <tr>\n",
              "      <th>mean</th>\n",
              "      <td>NaN</td>\n",
              "      <td>2.562860</td>\n",
              "      <td>2.296053</td>\n",
              "      <td>6.145494</td>\n",
              "      <td>NaN</td>\n",
              "      <td>1.943857</td>\n",
              "      <td>1.20304</td>\n",
              "    </tr>\n",
              "    <tr>\n",
              "      <th>std</th>\n",
              "      <td>NaN</td>\n",
              "      <td>2.246249</td>\n",
              "      <td>1.251666</td>\n",
              "      <td>4.044280</td>\n",
              "      <td>NaN</td>\n",
              "      <td>16.803632</td>\n",
              "      <td>0.14373</td>\n",
              "    </tr>\n",
              "    <tr>\n",
              "      <th>min</th>\n",
              "      <td>NaN</td>\n",
              "      <td>0.040000</td>\n",
              "      <td>-2.100000</td>\n",
              "      <td>0.230000</td>\n",
              "      <td>NaN</td>\n",
              "      <td>-1.910000</td>\n",
              "      <td>0.82730</td>\n",
              "    </tr>\n",
              "    <tr>\n",
              "      <th>25%</th>\n",
              "      <td>NaN</td>\n",
              "      <td>0.170000</td>\n",
              "      <td>1.610000</td>\n",
              "      <td>4.110000</td>\n",
              "      <td>NaN</td>\n",
              "      <td>0.140000</td>\n",
              "      <td>1.11580</td>\n",
              "    </tr>\n",
              "    <tr>\n",
              "      <th>50%</th>\n",
              "      <td>NaN</td>\n",
              "      <td>1.960000</td>\n",
              "      <td>2.300000</td>\n",
              "      <td>5.740000</td>\n",
              "      <td>NaN</td>\n",
              "      <td>1.210000</td>\n",
              "      <td>1.20770</td>\n",
              "    </tr>\n",
              "    <tr>\n",
              "      <th>75%</th>\n",
              "      <td>NaN</td>\n",
              "      <td>5.010000</td>\n",
              "      <td>3.010000</td>\n",
              "      <td>7.080000</td>\n",
              "      <td>NaN</td>\n",
              "      <td>2.010000</td>\n",
              "      <td>1.30050</td>\n",
              "    </tr>\n",
              "    <tr>\n",
              "      <th>max</th>\n",
              "      <td>NaN</td>\n",
              "      <td>10.390000</td>\n",
              "      <td>6.050000</td>\n",
              "      <td>27.120000</td>\n",
              "      <td>NaN</td>\n",
              "      <td>321.000000</td>\n",
              "      <td>1.59880</td>\n",
              "    </tr>\n",
              "  </tbody>\n",
              "</table>\n",
              "</div>"
            ],
            "text/plain": [
              "              DATE           FR         INFL  ...     GLD          RIR     US/EURO\n",
              "count         7999  7999.000000  7999.000000  ...    7999  7999.000000  7999.00000\n",
              "unique        7999          NaN          NaN  ...    5507          NaN         NaN\n",
              "top     12/14/1998          NaN          NaN  ...  369.25          NaN         NaN\n",
              "freq             1          NaN          NaN  ...      11          NaN         NaN\n",
              "mean           NaN     2.562860     2.296053  ...     NaN     1.943857     1.20304\n",
              "std            NaN     2.246249     1.251666  ...     NaN    16.803632     0.14373\n",
              "min            NaN     0.040000    -2.100000  ...     NaN    -1.910000     0.82730\n",
              "25%            NaN     0.170000     1.610000  ...     NaN     0.140000     1.11580\n",
              "50%            NaN     1.960000     2.300000  ...     NaN     1.210000     1.20770\n",
              "75%            NaN     5.010000     3.010000  ...     NaN     2.010000     1.30050\n",
              "max            NaN    10.390000     6.050000  ...     NaN   321.000000     1.59880\n",
              "\n",
              "[11 rows x 7 columns]"
            ]
          },
          "metadata": {},
          "execution_count": 45
        }
      ]
    },
    {
      "cell_type": "code",
      "metadata": {
        "colab": {
          "base_uri": "https://localhost:8080/",
          "height": 51
        },
        "id": "cddsDKO1iGW1",
        "outputId": "dad8155d-b5ec-4b21-d06a-d896b1efee32"
      },
      "source": [
        "correlation = gold_data.corr()\n",
        "plt.figure(figsize = (8,8))\n"
      ],
      "execution_count": 36,
      "outputs": [
        {
          "output_type": "execute_result",
          "data": {
            "text/plain": [
              "<Figure size 576x576 with 0 Axes>"
            ]
          },
          "metadata": {},
          "execution_count": 36
        },
        {
          "output_type": "display_data",
          "data": {
            "text/plain": [
              "<Figure size 576x576 with 0 Axes>"
            ]
          },
          "metadata": {}
        }
      ]
    },
    {
      "cell_type": "code",
      "metadata": {
        "id": "8vr5pkL4Rv6w"
      },
      "source": [
        "Correlation :\n",
        "\n",
        "1. Positive Correlation\n",
        "2. Negative Correlation"
      ],
      "execution_count": null,
      "outputs": []
    },
    {
      "cell_type": "code",
      "metadata": {
        "id": "F9uFGiOgWeqy"
      },
      "source": [
        "import matplotlib.pyplot as plt\n",
        "import seaborn as sns\n",
        "\n",
        "correlation = gold_data.corr()\n"
      ],
      "execution_count": 28,
      "outputs": []
    },
    {
      "cell_type": "code",
      "metadata": {
        "colab": {
          "base_uri": "https://localhost:8080/",
          "height": 411
        },
        "id": "FK68Kt-cdsG9",
        "outputId": "cd00f43f-6901-4eff-912b-f373408b43e3"
      },
      "source": [
        "gold_data[['GLD', 'DATE']] = gold_data[['GLD', 'DATE']].astype(str)\n",
        "\n",
        "gold_data = gold_data.astype(str)\n",
        "\n",
        "gold_data.dtypes\n",
        "\n",
        "gold_data.info()\n",
        "\n",
        "gold_data.describe()\n"
      ],
      "execution_count": 55,
      "outputs": [
        {
          "output_type": "stream",
          "name": "stdout",
          "text": [
            "<class 'pandas.core.frame.DataFrame'>\n",
            "RangeIndex: 7999 entries, 0 to 7998\n",
            "Data columns (total 7 columns):\n",
            " #   Column   Non-Null Count  Dtype \n",
            "---  ------   --------------  ----- \n",
            " 0   DATE     7999 non-null   object\n",
            " 1   FR       7999 non-null   object\n",
            " 2   INFL     7999 non-null   object\n",
            " 3   M2       7999 non-null   object\n",
            " 4   GLD      7999 non-null   object\n",
            " 5   RIR      7999 non-null   object\n",
            " 6   US/EURO  7999 non-null   object\n",
            "dtypes: object(7)\n",
            "memory usage: 437.6+ KB\n"
          ]
        },
        {
          "output_type": "execute_result",
          "data": {
            "text/html": [
              "<div>\n",
              "<style scoped>\n",
              "    .dataframe tbody tr th:only-of-type {\n",
              "        vertical-align: middle;\n",
              "    }\n",
              "\n",
              "    .dataframe tbody tr th {\n",
              "        vertical-align: top;\n",
              "    }\n",
              "\n",
              "    .dataframe thead th {\n",
              "        text-align: right;\n",
              "    }\n",
              "</style>\n",
              "<table border=\"1\" class=\"dataframe\">\n",
              "  <thead>\n",
              "    <tr style=\"text-align: right;\">\n",
              "      <th></th>\n",
              "      <th>DATE</th>\n",
              "      <th>FR</th>\n",
              "      <th>INFL</th>\n",
              "      <th>M2</th>\n",
              "      <th>GLD</th>\n",
              "      <th>RIR</th>\n",
              "      <th>US/EURO</th>\n",
              "    </tr>\n",
              "  </thead>\n",
              "  <tbody>\n",
              "    <tr>\n",
              "      <th>count</th>\n",
              "      <td>7999</td>\n",
              "      <td>7999</td>\n",
              "      <td>7999</td>\n",
              "      <td>7999</td>\n",
              "      <td>7999</td>\n",
              "      <td>7999</td>\n",
              "      <td>7999</td>\n",
              "    </tr>\n",
              "    <tr>\n",
              "      <th>unique</th>\n",
              "      <td>7999</td>\n",
              "      <td>640</td>\n",
              "      <td>239</td>\n",
              "      <td>295</td>\n",
              "      <td>5507</td>\n",
              "      <td>512</td>\n",
              "      <td>3953</td>\n",
              "    </tr>\n",
              "    <tr>\n",
              "      <th>top</th>\n",
              "      <td>12/14/1998</td>\n",
              "      <td>0.09</td>\n",
              "      <td>2.23</td>\n",
              "      <td>5.61</td>\n",
              "      <td>369.25</td>\n",
              "      <td>1.21</td>\n",
              "      <td>1.227</td>\n",
              "    </tr>\n",
              "    <tr>\n",
              "      <th>freq</th>\n",
              "      <td>1</td>\n",
              "      <td>582</td>\n",
              "      <td>108</td>\n",
              "      <td>87</td>\n",
              "      <td>11</td>\n",
              "      <td>90</td>\n",
              "      <td>9</td>\n",
              "    </tr>\n",
              "  </tbody>\n",
              "</table>\n",
              "</div>"
            ],
            "text/plain": [
              "              DATE    FR  INFL    M2     GLD   RIR US/EURO\n",
              "count         7999  7999  7999  7999    7999  7999    7999\n",
              "unique        7999   640   239   295    5507   512    3953\n",
              "top     12/14/1998  0.09  2.23  5.61  369.25  1.21   1.227\n",
              "freq             1   582   108    87      11    90       9"
            ]
          },
          "metadata": {},
          "execution_count": 55
        }
      ]
    },
    {
      "cell_type": "code",
      "metadata": {
        "colab": {
          "base_uri": "https://localhost:8080/",
          "height": 173
        },
        "id": "swmZtt6mSveo",
        "outputId": "ef947108-8d0c-406b-cc63-14e6de43b6ed"
      },
      "source": [
        "gold_data.describe()"
      ],
      "execution_count": 56,
      "outputs": [
        {
          "output_type": "execute_result",
          "data": {
            "text/html": [
              "<div>\n",
              "<style scoped>\n",
              "    .dataframe tbody tr th:only-of-type {\n",
              "        vertical-align: middle;\n",
              "    }\n",
              "\n",
              "    .dataframe tbody tr th {\n",
              "        vertical-align: top;\n",
              "    }\n",
              "\n",
              "    .dataframe thead th {\n",
              "        text-align: right;\n",
              "    }\n",
              "</style>\n",
              "<table border=\"1\" class=\"dataframe\">\n",
              "  <thead>\n",
              "    <tr style=\"text-align: right;\">\n",
              "      <th></th>\n",
              "      <th>DATE</th>\n",
              "      <th>FR</th>\n",
              "      <th>INFL</th>\n",
              "      <th>M2</th>\n",
              "      <th>GLD</th>\n",
              "      <th>RIR</th>\n",
              "      <th>US/EURO</th>\n",
              "    </tr>\n",
              "  </thead>\n",
              "  <tbody>\n",
              "    <tr>\n",
              "      <th>count</th>\n",
              "      <td>7999</td>\n",
              "      <td>7999</td>\n",
              "      <td>7999</td>\n",
              "      <td>7999</td>\n",
              "      <td>7999</td>\n",
              "      <td>7999</td>\n",
              "      <td>7999</td>\n",
              "    </tr>\n",
              "    <tr>\n",
              "      <th>unique</th>\n",
              "      <td>7999</td>\n",
              "      <td>640</td>\n",
              "      <td>239</td>\n",
              "      <td>295</td>\n",
              "      <td>5507</td>\n",
              "      <td>512</td>\n",
              "      <td>3953</td>\n",
              "    </tr>\n",
              "    <tr>\n",
              "      <th>top</th>\n",
              "      <td>12/14/1998</td>\n",
              "      <td>0.09</td>\n",
              "      <td>2.23</td>\n",
              "      <td>5.61</td>\n",
              "      <td>369.25</td>\n",
              "      <td>1.21</td>\n",
              "      <td>1.227</td>\n",
              "    </tr>\n",
              "    <tr>\n",
              "      <th>freq</th>\n",
              "      <td>1</td>\n",
              "      <td>582</td>\n",
              "      <td>108</td>\n",
              "      <td>87</td>\n",
              "      <td>11</td>\n",
              "      <td>90</td>\n",
              "      <td>9</td>\n",
              "    </tr>\n",
              "  </tbody>\n",
              "</table>\n",
              "</div>"
            ],
            "text/plain": [
              "              DATE    FR  INFL    M2     GLD   RIR US/EURO\n",
              "count         7999  7999  7999  7999    7999  7999    7999\n",
              "unique        7999   640   239   295    5507   512    3953\n",
              "top     12/14/1998  0.09  2.23  5.61  369.25  1.21   1.227\n",
              "freq             1   582   108    87      11    90       9"
            ]
          },
          "metadata": {},
          "execution_count": 56
        }
      ]
    },
    {
      "cell_type": "code",
      "metadata": {
        "colab": {
          "base_uri": "https://localhost:8080/"
        },
        "id": "ZjqGGtc2TsWg",
        "outputId": "8070f6ea-7005-46f4-b36f-cfce3a1697dc"
      },
      "source": [
        "gold_data.info()"
      ],
      "execution_count": 57,
      "outputs": [
        {
          "output_type": "stream",
          "name": "stdout",
          "text": [
            "<class 'pandas.core.frame.DataFrame'>\n",
            "RangeIndex: 7999 entries, 0 to 7998\n",
            "Data columns (total 7 columns):\n",
            " #   Column   Non-Null Count  Dtype \n",
            "---  ------   --------------  ----- \n",
            " 0   DATE     7999 non-null   object\n",
            " 1   FR       7999 non-null   object\n",
            " 2   INFL     7999 non-null   object\n",
            " 3   M2       7999 non-null   object\n",
            " 4   GLD      7999 non-null   object\n",
            " 5   RIR      7999 non-null   object\n",
            " 6   US/EURO  7999 non-null   object\n",
            "dtypes: object(7)\n",
            "memory usage: 437.6+ KB\n"
          ]
        }
      ]
    },
    {
      "cell_type": "code",
      "metadata": {
        "id": "7E7q6nF4gBy1"
      },
      "source": [
        "correlation = gold_data.corr()"
      ],
      "execution_count": 58,
      "outputs": []
    },
    {
      "cell_type": "code",
      "metadata": {
        "colab": {
          "base_uri": "https://localhost:8080/",
          "height": 391
        },
        "id": "OR-Ui3aIgxEq",
        "outputId": "738304e6-db67-4634-ec74-4beb2c7b156c"
      },
      "source": [
        "import seaborn as sns\n",
        "import matplotlib.pyplot as plt\n",
        "\n",
        "correlation = gold_data.corr()\n",
        "plt.figure(figsize = (8,8))\n",
        "sns.heatmap(correlation,cbar=True, square=True, fmt='.1f', annot=True, annot_kws= {'size':8}, cmap='Blues')"
      ],
      "execution_count": 66,
      "outputs": [
        {
          "output_type": "error",
          "ename": "ValueError",
          "evalue": "ignored",
          "traceback": [
            "\u001b[0;31m---------------------------------------------------------------------------\u001b[0m",
            "\u001b[0;31mValueError\u001b[0m                                Traceback (most recent call last)",
            "\u001b[0;32m<ipython-input-66-bf798a25a084>\u001b[0m in \u001b[0;36m<module>\u001b[0;34m()\u001b[0m\n\u001b[1;32m      4\u001b[0m \u001b[0mcorrelation\u001b[0m \u001b[0;34m=\u001b[0m \u001b[0mgold_data\u001b[0m\u001b[0;34m.\u001b[0m\u001b[0mcorr\u001b[0m\u001b[0;34m(\u001b[0m\u001b[0;34m)\u001b[0m\u001b[0;34m\u001b[0m\u001b[0;34m\u001b[0m\u001b[0m\n\u001b[1;32m      5\u001b[0m \u001b[0mplt\u001b[0m\u001b[0;34m.\u001b[0m\u001b[0mfigure\u001b[0m\u001b[0;34m(\u001b[0m\u001b[0mfigsize\u001b[0m \u001b[0;34m=\u001b[0m \u001b[0;34m(\u001b[0m\u001b[0;36m8\u001b[0m\u001b[0;34m,\u001b[0m\u001b[0;36m8\u001b[0m\u001b[0;34m)\u001b[0m\u001b[0;34m)\u001b[0m\u001b[0;34m\u001b[0m\u001b[0;34m\u001b[0m\u001b[0m\n\u001b[0;32m----> 6\u001b[0;31m \u001b[0msns\u001b[0m\u001b[0;34m.\u001b[0m\u001b[0mheatmap\u001b[0m\u001b[0;34m(\u001b[0m\u001b[0mcorrelation\u001b[0m\u001b[0;34m,\u001b[0m\u001b[0mcbar\u001b[0m\u001b[0;34m=\u001b[0m\u001b[0;32mTrue\u001b[0m\u001b[0;34m,\u001b[0m \u001b[0msquare\u001b[0m\u001b[0;34m=\u001b[0m\u001b[0;32mTrue\u001b[0m\u001b[0;34m,\u001b[0m \u001b[0mfmt\u001b[0m\u001b[0;34m=\u001b[0m\u001b[0;34m'.1f'\u001b[0m\u001b[0;34m,\u001b[0m \u001b[0mannot\u001b[0m\u001b[0;34m=\u001b[0m\u001b[0;32mTrue\u001b[0m\u001b[0;34m,\u001b[0m \u001b[0mannot_kws\u001b[0m\u001b[0;34m=\u001b[0m \u001b[0;34m{\u001b[0m\u001b[0;34m'size'\u001b[0m\u001b[0;34m:\u001b[0m\u001b[0;36m8\u001b[0m\u001b[0;34m}\u001b[0m\u001b[0;34m,\u001b[0m \u001b[0mcmap\u001b[0m\u001b[0;34m=\u001b[0m\u001b[0;34m'Blues'\u001b[0m\u001b[0;34m)\u001b[0m\u001b[0;34m\u001b[0m\u001b[0;34m\u001b[0m\u001b[0m\n\u001b[0m",
            "\u001b[0;32m/usr/local/lib/python3.7/dist-packages/seaborn/_decorators.py\u001b[0m in \u001b[0;36minner_f\u001b[0;34m(*args, **kwargs)\u001b[0m\n\u001b[1;32m     44\u001b[0m             )\n\u001b[1;32m     45\u001b[0m         \u001b[0mkwargs\u001b[0m\u001b[0;34m.\u001b[0m\u001b[0mupdate\u001b[0m\u001b[0;34m(\u001b[0m\u001b[0;34m{\u001b[0m\u001b[0mk\u001b[0m\u001b[0;34m:\u001b[0m \u001b[0marg\u001b[0m \u001b[0;32mfor\u001b[0m \u001b[0mk\u001b[0m\u001b[0;34m,\u001b[0m \u001b[0marg\u001b[0m \u001b[0;32min\u001b[0m \u001b[0mzip\u001b[0m\u001b[0;34m(\u001b[0m\u001b[0msig\u001b[0m\u001b[0;34m.\u001b[0m\u001b[0mparameters\u001b[0m\u001b[0;34m,\u001b[0m \u001b[0margs\u001b[0m\u001b[0;34m)\u001b[0m\u001b[0;34m}\u001b[0m\u001b[0;34m)\u001b[0m\u001b[0;34m\u001b[0m\u001b[0;34m\u001b[0m\u001b[0m\n\u001b[0;32m---> 46\u001b[0;31m         \u001b[0;32mreturn\u001b[0m \u001b[0mf\u001b[0m\u001b[0;34m(\u001b[0m\u001b[0;34m**\u001b[0m\u001b[0mkwargs\u001b[0m\u001b[0;34m)\u001b[0m\u001b[0;34m\u001b[0m\u001b[0;34m\u001b[0m\u001b[0m\n\u001b[0m\u001b[1;32m     47\u001b[0m     \u001b[0;32mreturn\u001b[0m \u001b[0minner_f\u001b[0m\u001b[0;34m\u001b[0m\u001b[0;34m\u001b[0m\u001b[0m\n\u001b[1;32m     48\u001b[0m \u001b[0;34m\u001b[0m\u001b[0m\n",
            "\u001b[0;32m/usr/local/lib/python3.7/dist-packages/seaborn/matrix.py\u001b[0m in \u001b[0;36mheatmap\u001b[0;34m(data, vmin, vmax, cmap, center, robust, annot, fmt, annot_kws, linewidths, linecolor, cbar, cbar_kws, cbar_ax, square, xticklabels, yticklabels, mask, ax, **kwargs)\u001b[0m\n\u001b[1;32m    535\u001b[0m     plotter = _HeatMapper(data, vmin, vmax, cmap, center, robust, annot, fmt,\n\u001b[1;32m    536\u001b[0m                           \u001b[0mannot_kws\u001b[0m\u001b[0;34m,\u001b[0m \u001b[0mcbar\u001b[0m\u001b[0;34m,\u001b[0m \u001b[0mcbar_kws\u001b[0m\u001b[0;34m,\u001b[0m \u001b[0mxticklabels\u001b[0m\u001b[0;34m,\u001b[0m\u001b[0;34m\u001b[0m\u001b[0;34m\u001b[0m\u001b[0m\n\u001b[0;32m--> 537\u001b[0;31m                           yticklabels, mask)\n\u001b[0m\u001b[1;32m    538\u001b[0m \u001b[0;34m\u001b[0m\u001b[0m\n\u001b[1;32m    539\u001b[0m     \u001b[0;31m# Add the pcolormesh kwargs here\u001b[0m\u001b[0;34m\u001b[0m\u001b[0;34m\u001b[0m\u001b[0;34m\u001b[0m\u001b[0m\n",
            "\u001b[0;32m/usr/local/lib/python3.7/dist-packages/seaborn/matrix.py\u001b[0m in \u001b[0;36m__init__\u001b[0;34m(self, data, vmin, vmax, cmap, center, robust, annot, fmt, annot_kws, cbar, cbar_kws, xticklabels, yticklabels, mask)\u001b[0m\n\u001b[1;32m    154\u001b[0m         \u001b[0;31m# Determine good default values for the colormapping\u001b[0m\u001b[0;34m\u001b[0m\u001b[0;34m\u001b[0m\u001b[0;34m\u001b[0m\u001b[0m\n\u001b[1;32m    155\u001b[0m         self._determine_cmap_params(plot_data, vmin, vmax,\n\u001b[0;32m--> 156\u001b[0;31m                                     cmap, center, robust)\n\u001b[0m\u001b[1;32m    157\u001b[0m \u001b[0;34m\u001b[0m\u001b[0m\n\u001b[1;32m    158\u001b[0m         \u001b[0;31m# Sort out the annotations\u001b[0m\u001b[0;34m\u001b[0m\u001b[0;34m\u001b[0m\u001b[0;34m\u001b[0m\u001b[0m\n",
            "\u001b[0;32m/usr/local/lib/python3.7/dist-packages/seaborn/matrix.py\u001b[0m in \u001b[0;36m_determine_cmap_params\u001b[0;34m(self, plot_data, vmin, vmax, cmap, center, robust)\u001b[0m\n\u001b[1;32m    192\u001b[0m                 \u001b[0mvmin\u001b[0m \u001b[0;34m=\u001b[0m \u001b[0mnp\u001b[0m\u001b[0;34m.\u001b[0m\u001b[0mnanpercentile\u001b[0m\u001b[0;34m(\u001b[0m\u001b[0mcalc_data\u001b[0m\u001b[0;34m,\u001b[0m \u001b[0;36m2\u001b[0m\u001b[0;34m)\u001b[0m\u001b[0;34m\u001b[0m\u001b[0;34m\u001b[0m\u001b[0m\n\u001b[1;32m    193\u001b[0m             \u001b[0;32melse\u001b[0m\u001b[0;34m:\u001b[0m\u001b[0;34m\u001b[0m\u001b[0;34m\u001b[0m\u001b[0m\n\u001b[0;32m--> 194\u001b[0;31m                 \u001b[0mvmin\u001b[0m \u001b[0;34m=\u001b[0m \u001b[0mnp\u001b[0m\u001b[0;34m.\u001b[0m\u001b[0mnanmin\u001b[0m\u001b[0;34m(\u001b[0m\u001b[0mcalc_data\u001b[0m\u001b[0;34m)\u001b[0m\u001b[0;34m\u001b[0m\u001b[0;34m\u001b[0m\u001b[0m\n\u001b[0m\u001b[1;32m    195\u001b[0m         \u001b[0;32mif\u001b[0m \u001b[0mvmax\u001b[0m \u001b[0;32mis\u001b[0m \u001b[0;32mNone\u001b[0m\u001b[0;34m:\u001b[0m\u001b[0;34m\u001b[0m\u001b[0;34m\u001b[0m\u001b[0m\n\u001b[1;32m    196\u001b[0m             \u001b[0;32mif\u001b[0m \u001b[0mrobust\u001b[0m\u001b[0;34m:\u001b[0m\u001b[0;34m\u001b[0m\u001b[0;34m\u001b[0m\u001b[0m\n",
            "\u001b[0;32m<__array_function__ internals>\u001b[0m in \u001b[0;36mnanmin\u001b[0;34m(*args, **kwargs)\u001b[0m\n",
            "\u001b[0;32m/usr/local/lib/python3.7/dist-packages/numpy/lib/nanfunctions.py\u001b[0m in \u001b[0;36mnanmin\u001b[0;34m(a, axis, out, keepdims)\u001b[0m\n\u001b[1;32m    317\u001b[0m         \u001b[0;31m# Fast, but not safe for subclasses of ndarray, or object arrays,\u001b[0m\u001b[0;34m\u001b[0m\u001b[0;34m\u001b[0m\u001b[0;34m\u001b[0m\u001b[0m\n\u001b[1;32m    318\u001b[0m         \u001b[0;31m# which do not implement isnan (gh-9009), or fmin correctly (gh-8975)\u001b[0m\u001b[0;34m\u001b[0m\u001b[0;34m\u001b[0m\u001b[0;34m\u001b[0m\u001b[0m\n\u001b[0;32m--> 319\u001b[0;31m         \u001b[0mres\u001b[0m \u001b[0;34m=\u001b[0m \u001b[0mnp\u001b[0m\u001b[0;34m.\u001b[0m\u001b[0mfmin\u001b[0m\u001b[0;34m.\u001b[0m\u001b[0mreduce\u001b[0m\u001b[0;34m(\u001b[0m\u001b[0ma\u001b[0m\u001b[0;34m,\u001b[0m \u001b[0maxis\u001b[0m\u001b[0;34m=\u001b[0m\u001b[0maxis\u001b[0m\u001b[0;34m,\u001b[0m \u001b[0mout\u001b[0m\u001b[0;34m=\u001b[0m\u001b[0mout\u001b[0m\u001b[0;34m,\u001b[0m \u001b[0;34m**\u001b[0m\u001b[0mkwargs\u001b[0m\u001b[0;34m)\u001b[0m\u001b[0;34m\u001b[0m\u001b[0;34m\u001b[0m\u001b[0m\n\u001b[0m\u001b[1;32m    320\u001b[0m         \u001b[0;32mif\u001b[0m \u001b[0mnp\u001b[0m\u001b[0;34m.\u001b[0m\u001b[0misnan\u001b[0m\u001b[0;34m(\u001b[0m\u001b[0mres\u001b[0m\u001b[0;34m)\u001b[0m\u001b[0;34m.\u001b[0m\u001b[0many\u001b[0m\u001b[0;34m(\u001b[0m\u001b[0;34m)\u001b[0m\u001b[0;34m:\u001b[0m\u001b[0;34m\u001b[0m\u001b[0;34m\u001b[0m\u001b[0m\n\u001b[1;32m    321\u001b[0m             warnings.warn(\"All-NaN slice encountered\", RuntimeWarning,\n",
            "\u001b[0;31mValueError\u001b[0m: zero-size array to reduction operation fmin which has no identity"
          ]
        },
        {
          "output_type": "display_data",
          "data": {
            "text/plain": [
              "<Figure size 576x576 with 0 Axes>"
            ]
          },
          "metadata": {}
        }
      ]
    }
  ]
}