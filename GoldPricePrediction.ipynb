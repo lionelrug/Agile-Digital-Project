{
  "nbformat": 4,
  "nbformat_minor": 0,
  "metadata": {
    "colab": {
      "name": "GoldPricePrediction.ipynb",
      "provenance": [],
      "authorship_tag": "ABX9TyPoAjDUeGnVuueWbw5BRY6s",
      "include_colab_link": true
    },
    "kernelspec": {
      "name": "python3",
      "display_name": "Python 3"
    },
    "language_info": {
      "name": "python"
    }
  },
  "cells": [
    {
      "cell_type": "markdown",
      "metadata": {
        "id": "view-in-github",
        "colab_type": "text"
      },
      "source": [
        "<a href=\"https://colab.research.google.com/github/lionelrug/Agile-Digital-Project/blob/master/GoldPricePrediction.ipynb\" target=\"_parent\"><img src=\"https://colab.research.google.com/assets/colab-badge.svg\" alt=\"Open In Colab\"/></a>"
      ]
    },
    {
      "cell_type": "markdown",
      "metadata": {
        "id": "Izp8yRntQfrX"
      },
      "source": [
        "IMPORTING THE LIBRARIES"
      ]
    },
    {
      "cell_type": "code",
      "metadata": {
        "id": "8vvg1HTaQnMm"
      },
      "source": [
        "import numpy as np\n",
        "import pandas as pd\n",
        "import seaborn as sns\n",
        "import matplotlib.pyplot as plt\n",
        "from sklearn.model_selection import train_test_split\n",
        "from sklearn.ensemble import RandomForestRegressor\n",
        "from sklearn import metrics"
      ],
      "execution_count": null,
      "outputs": []
    },
    {
      "cell_type": "code",
      "metadata": {
        "id": "tECv3Jt-Qo-n"
      },
      "source": [
        "import pandas as pd\n",
        "\n",
        "gold_data = pd.read_csv('/content/Sep_data_CLE.csv')\n"
      ],
      "execution_count": 24,
      "outputs": []
    },
    {
      "cell_type": "code",
      "metadata": {
        "colab": {
          "base_uri": "https://localhost:8080/",
          "height": 204
        },
        "id": "erk8PIxyRIC8",
        "outputId": "f29638e8-01ef-4d2a-a3a8-98f74449958f"
      },
      "source": [
        "gold_data.head()"
      ],
      "execution_count": 25,
      "outputs": [
        {
          "output_type": "execute_result",
          "data": {
            "text/html": [
              "<div>\n",
              "<style scoped>\n",
              "    .dataframe tbody tr th:only-of-type {\n",
              "        vertical-align: middle;\n",
              "    }\n",
              "\n",
              "    .dataframe tbody tr th {\n",
              "        vertical-align: top;\n",
              "    }\n",
              "\n",
              "    .dataframe thead th {\n",
              "        text-align: right;\n",
              "    }\n",
              "</style>\n",
              "<table border=\"1\" class=\"dataframe\">\n",
              "  <thead>\n",
              "    <tr style=\"text-align: right;\">\n",
              "      <th></th>\n",
              "      <th>DATE</th>\n",
              "      <th>M2</th>\n",
              "      <th>FED RATES</th>\n",
              "      <th>GOLD</th>\n",
              "      <th>REAL INTEREST</th>\n",
              "      <th>INFLATION</th>\n",
              "      <th>US/EURO</th>\n",
              "    </tr>\n",
              "  </thead>\n",
              "  <tbody>\n",
              "    <tr>\n",
              "      <th>0</th>\n",
              "      <td>01/01/1991</td>\n",
              "      <td>3.82</td>\n",
              "      <td>5.53</td>\n",
              "      <td>392.75</td>\n",
              "      <td>3.72</td>\n",
              "      <td>5.65</td>\n",
              "      <td>1.3772</td>\n",
              "    </tr>\n",
              "    <tr>\n",
              "      <th>1</th>\n",
              "      <td>01/02/1991</td>\n",
              "      <td>3.82</td>\n",
              "      <td>7.85</td>\n",
              "      <td>390.80</td>\n",
              "      <td>3.72</td>\n",
              "      <td>5.65</td>\n",
              "      <td>1.3773</td>\n",
              "    </tr>\n",
              "    <tr>\n",
              "      <th>2</th>\n",
              "      <td>01/03/1991</td>\n",
              "      <td>3.82</td>\n",
              "      <td>7.18</td>\n",
              "      <td>386.30</td>\n",
              "      <td>3.72</td>\n",
              "      <td>5.65</td>\n",
              "      <td>1.3777</td>\n",
              "    </tr>\n",
              "    <tr>\n",
              "      <th>3</th>\n",
              "      <td>01/04/1991</td>\n",
              "      <td>3.82</td>\n",
              "      <td>6.52</td>\n",
              "      <td>387.40</td>\n",
              "      <td>3.72</td>\n",
              "      <td>5.65</td>\n",
              "      <td>1.3675</td>\n",
              "    </tr>\n",
              "    <tr>\n",
              "      <th>4</th>\n",
              "      <td>01/07/1991</td>\n",
              "      <td>3.82</td>\n",
              "      <td>6.26</td>\n",
              "      <td>391.10</td>\n",
              "      <td>3.72</td>\n",
              "      <td>5.65</td>\n",
              "      <td>1.3465</td>\n",
              "    </tr>\n",
              "  </tbody>\n",
              "</table>\n",
              "</div>"
            ],
            "text/plain": [
              "         DATE    M2  FED RATES    GOLD  REAL INTEREST  INFLATION  US/EURO\n",
              "0  01/01/1991  3.82       5.53  392.75           3.72       5.65   1.3772\n",
              "1  01/02/1991  3.82       7.85  390.80           3.72       5.65   1.3773\n",
              "2  01/03/1991  3.82       7.18  386.30           3.72       5.65   1.3777\n",
              "3  01/04/1991  3.82       6.52  387.40           3.72       5.65   1.3675\n",
              "4  01/07/1991  3.82       6.26  391.10           3.72       5.65   1.3465"
            ]
          },
          "metadata": {},
          "execution_count": 25
        }
      ]
    },
    {
      "cell_type": "code",
      "metadata": {
        "colab": {
          "base_uri": "https://localhost:8080/",
          "height": 204
        },
        "id": "jxaNtVYkRPp8",
        "outputId": "cbf3b77e-6684-4e71-e387-961ed8785b92"
      },
      "source": [
        "gold_data.tail()"
      ],
      "execution_count": 26,
      "outputs": [
        {
          "output_type": "execute_result",
          "data": {
            "text/html": [
              "<div>\n",
              "<style scoped>\n",
              "    .dataframe tbody tr th:only-of-type {\n",
              "        vertical-align: middle;\n",
              "    }\n",
              "\n",
              "    .dataframe tbody tr th {\n",
              "        vertical-align: top;\n",
              "    }\n",
              "\n",
              "    .dataframe thead th {\n",
              "        text-align: right;\n",
              "    }\n",
              "</style>\n",
              "<table border=\"1\" class=\"dataframe\">\n",
              "  <thead>\n",
              "    <tr style=\"text-align: right;\">\n",
              "      <th></th>\n",
              "      <th>DATE</th>\n",
              "      <th>M2</th>\n",
              "      <th>FED RATES</th>\n",
              "      <th>GOLD</th>\n",
              "      <th>REAL INTEREST</th>\n",
              "      <th>INFLATION</th>\n",
              "      <th>US/EURO</th>\n",
              "    </tr>\n",
              "  </thead>\n",
              "  <tbody>\n",
              "    <tr>\n",
              "      <th>7994</th>\n",
              "      <td>08/25/2021</td>\n",
              "      <td>13.91</td>\n",
              "      <td>0.08</td>\n",
              "      <td>1709.13</td>\n",
              "      <td>-1.67</td>\n",
              "      <td>5.4</td>\n",
              "      <td>1.1739</td>\n",
              "    </tr>\n",
              "    <tr>\n",
              "      <th>7995</th>\n",
              "      <td>08/26/2021</td>\n",
              "      <td>13.91</td>\n",
              "      <td>0.08</td>\n",
              "      <td>1792.16</td>\n",
              "      <td>-1.66</td>\n",
              "      <td>5.4</td>\n",
              "      <td>1.1766</td>\n",
              "    </tr>\n",
              "    <tr>\n",
              "      <th>7996</th>\n",
              "      <td>08/27/2021</td>\n",
              "      <td>13.91</td>\n",
              "      <td>0.08</td>\n",
              "      <td>1816.52</td>\n",
              "      <td>-1.74</td>\n",
              "      <td>5.4</td>\n",
              "      <td>1.1750</td>\n",
              "    </tr>\n",
              "    <tr>\n",
              "      <th>7997</th>\n",
              "      <td>08/30/2021</td>\n",
              "      <td>13.91</td>\n",
              "      <td>0.08</td>\n",
              "      <td>1809.45</td>\n",
              "      <td>-1.74</td>\n",
              "      <td>5.4</td>\n",
              "      <td>1.1799</td>\n",
              "    </tr>\n",
              "    <tr>\n",
              "      <th>7998</th>\n",
              "      <td>08/31/2021</td>\n",
              "      <td>13.91</td>\n",
              "      <td>0.08</td>\n",
              "      <td>1813.42</td>\n",
              "      <td>-1.71</td>\n",
              "      <td>5.4</td>\n",
              "      <td>1.1809</td>\n",
              "    </tr>\n",
              "  </tbody>\n",
              "</table>\n",
              "</div>"
            ],
            "text/plain": [
              "            DATE     M2  FED RATES     GOLD  REAL INTEREST  INFLATION  US/EURO\n",
              "7994  08/25/2021  13.91       0.08  1709.13          -1.67        5.4   1.1739\n",
              "7995  08/26/2021  13.91       0.08  1792.16          -1.66        5.4   1.1766\n",
              "7996  08/27/2021  13.91       0.08  1816.52          -1.74        5.4   1.1750\n",
              "7997  08/30/2021  13.91       0.08  1809.45          -1.74        5.4   1.1799\n",
              "7998  08/31/2021  13.91       0.08  1813.42          -1.71        5.4   1.1809"
            ]
          },
          "metadata": {},
          "execution_count": 26
        }
      ]
    },
    {
      "cell_type": "code",
      "metadata": {
        "colab": {
          "base_uri": "https://localhost:8080/"
        },
        "id": "D2s_ycSjRT10",
        "outputId": "e3745cd5-a679-4410-fbd6-82254d59195c"
      },
      "source": [
        "gold_data.info()"
      ],
      "execution_count": 27,
      "outputs": [
        {
          "output_type": "stream",
          "name": "stdout",
          "text": [
            "<class 'pandas.core.frame.DataFrame'>\n",
            "RangeIndex: 7999 entries, 0 to 7998\n",
            "Data columns (total 7 columns):\n",
            " #   Column         Non-Null Count  Dtype  \n",
            "---  ------         --------------  -----  \n",
            " 0   DATE           7999 non-null   object \n",
            " 1   M2             7999 non-null   float64\n",
            " 2   FED RATES      7999 non-null   float64\n",
            " 3   GOLD           7999 non-null   float64\n",
            " 4   REAL INTEREST  7999 non-null   float64\n",
            " 5   INFLATION      7999 non-null   float64\n",
            " 6   US/EURO        7999 non-null   float64\n",
            "dtypes: float64(6), object(1)\n",
            "memory usage: 437.6+ KB\n"
          ]
        }
      ]
    },
    {
      "cell_type": "code",
      "metadata": {
        "colab": {
          "base_uri": "https://localhost:8080/"
        },
        "id": "KmGlabj1RZcP",
        "outputId": "fa1ed0df-1725-46b9-92ad-0cf0ce795fe4"
      },
      "source": [
        "gold_data.isnull().sum()"
      ],
      "execution_count": 28,
      "outputs": [
        {
          "output_type": "execute_result",
          "data": {
            "text/plain": [
              "DATE             0\n",
              "M2               0\n",
              "FED RATES        0\n",
              "GOLD             0\n",
              "REAL INTEREST    0\n",
              "INFLATION        0\n",
              "US/EURO          0\n",
              "dtype: int64"
            ]
          },
          "metadata": {},
          "execution_count": 28
        }
      ]
    },
    {
      "cell_type": "code",
      "metadata": {
        "colab": {
          "base_uri": "https://localhost:8080/",
          "height": 297
        },
        "id": "bHoPeofNRgT4",
        "outputId": "318271df-857a-4eff-a685-8b121619cbfe"
      },
      "source": [
        "gold_data.describe()"
      ],
      "execution_count": 29,
      "outputs": [
        {
          "output_type": "execute_result",
          "data": {
            "text/html": [
              "<div>\n",
              "<style scoped>\n",
              "    .dataframe tbody tr th:only-of-type {\n",
              "        vertical-align: middle;\n",
              "    }\n",
              "\n",
              "    .dataframe tbody tr th {\n",
              "        vertical-align: top;\n",
              "    }\n",
              "\n",
              "    .dataframe thead th {\n",
              "        text-align: right;\n",
              "    }\n",
              "</style>\n",
              "<table border=\"1\" class=\"dataframe\">\n",
              "  <thead>\n",
              "    <tr style=\"text-align: right;\">\n",
              "      <th></th>\n",
              "      <th>M2</th>\n",
              "      <th>FED RATES</th>\n",
              "      <th>GOLD</th>\n",
              "      <th>REAL INTEREST</th>\n",
              "      <th>INFLATION</th>\n",
              "      <th>US/EURO</th>\n",
              "    </tr>\n",
              "  </thead>\n",
              "  <tbody>\n",
              "    <tr>\n",
              "      <th>count</th>\n",
              "      <td>7999.000000</td>\n",
              "      <td>7999.000000</td>\n",
              "      <td>7999.000000</td>\n",
              "      <td>7999.000000</td>\n",
              "      <td>7999.000000</td>\n",
              "      <td>7999.00000</td>\n",
              "    </tr>\n",
              "    <tr>\n",
              "      <th>mean</th>\n",
              "      <td>6.145494</td>\n",
              "      <td>2.562860</td>\n",
              "      <td>813.629084</td>\n",
              "      <td>1.943857</td>\n",
              "      <td>2.296053</td>\n",
              "      <td>1.20304</td>\n",
              "    </tr>\n",
              "    <tr>\n",
              "      <th>std</th>\n",
              "      <td>4.044280</td>\n",
              "      <td>2.246249</td>\n",
              "      <td>583.145613</td>\n",
              "      <td>16.803632</td>\n",
              "      <td>1.251666</td>\n",
              "      <td>0.14373</td>\n",
              "    </tr>\n",
              "    <tr>\n",
              "      <th>min</th>\n",
              "      <td>0.230000</td>\n",
              "      <td>0.040000</td>\n",
              "      <td>33.700000</td>\n",
              "      <td>-1.910000</td>\n",
              "      <td>-2.100000</td>\n",
              "      <td>0.82730</td>\n",
              "    </tr>\n",
              "    <tr>\n",
              "      <th>25%</th>\n",
              "      <td>4.110000</td>\n",
              "      <td>0.170000</td>\n",
              "      <td>353.725000</td>\n",
              "      <td>0.140000</td>\n",
              "      <td>1.610000</td>\n",
              "      <td>1.11580</td>\n",
              "    </tr>\n",
              "    <tr>\n",
              "      <th>50%</th>\n",
              "      <td>5.740000</td>\n",
              "      <td>1.960000</td>\n",
              "      <td>579.600000</td>\n",
              "      <td>1.210000</td>\n",
              "      <td>2.300000</td>\n",
              "      <td>1.20770</td>\n",
              "    </tr>\n",
              "    <tr>\n",
              "      <th>75%</th>\n",
              "      <td>7.080000</td>\n",
              "      <td>5.010000</td>\n",
              "      <td>1267.350000</td>\n",
              "      <td>2.010000</td>\n",
              "      <td>3.010000</td>\n",
              "      <td>1.30050</td>\n",
              "    </tr>\n",
              "    <tr>\n",
              "      <th>max</th>\n",
              "      <td>27.120000</td>\n",
              "      <td>10.390000</td>\n",
              "      <td>13339.000000</td>\n",
              "      <td>321.000000</td>\n",
              "      <td>6.050000</td>\n",
              "      <td>1.59880</td>\n",
              "    </tr>\n",
              "  </tbody>\n",
              "</table>\n",
              "</div>"
            ],
            "text/plain": [
              "                M2    FED RATES  ...    INFLATION     US/EURO\n",
              "count  7999.000000  7999.000000  ...  7999.000000  7999.00000\n",
              "mean      6.145494     2.562860  ...     2.296053     1.20304\n",
              "std       4.044280     2.246249  ...     1.251666     0.14373\n",
              "min       0.230000     0.040000  ...    -2.100000     0.82730\n",
              "25%       4.110000     0.170000  ...     1.610000     1.11580\n",
              "50%       5.740000     1.960000  ...     2.300000     1.20770\n",
              "75%       7.080000     5.010000  ...     3.010000     1.30050\n",
              "max      27.120000    10.390000  ...     6.050000     1.59880\n",
              "\n",
              "[8 rows x 6 columns]"
            ]
          },
          "metadata": {},
          "execution_count": 29
        }
      ]
    },
    {
      "cell_type": "markdown",
      "metadata": {
        "id": "wEH9404KFGT5"
      },
      "source": [
        "Correlation :\n",
        "\n",
        "1. Positive Correlation\n",
        "\n",
        "2. Negative Correlation"
      ]
    },
    {
      "cell_type": "code",
      "metadata": {
        "colab": {
          "base_uri": "https://localhost:8080/"
        },
        "id": "kSSH4lIr4UnB",
        "outputId": "937f9ad3-9578-43ff-f233-53c33e302bbc"
      },
      "source": [
        "gold_data.shape"
      ],
      "execution_count": 30,
      "outputs": [
        {
          "output_type": "execute_result",
          "data": {
            "text/plain": [
              "(7999, 7)"
            ]
          },
          "metadata": {},
          "execution_count": 30
        }
      ]
    },
    {
      "cell_type": "code",
      "metadata": {
        "colab": {
          "base_uri": "https://localhost:8080/"
        },
        "id": "8N7NxaUf4cKz",
        "outputId": "bc766e77-7f9c-4192-8340-dd71ad7577fb"
      },
      "source": [
        "gold_data.info"
      ],
      "execution_count": 31,
      "outputs": [
        {
          "output_type": "execute_result",
          "data": {
            "text/plain": [
              "<bound method DataFrame.info of             DATE     M2  FED RATES     GOLD  REAL INTEREST  INFLATION  US/EURO\n",
              "0     01/01/1991   3.82       5.53   392.75           3.72       5.65   1.3772\n",
              "1     01/02/1991   3.82       7.85   390.80           3.72       5.65   1.3773\n",
              "2     01/03/1991   3.82       7.18   386.30           3.72       5.65   1.3777\n",
              "3     01/04/1991   3.82       6.52   387.40           3.72       5.65   1.3675\n",
              "4     01/07/1991   3.82       6.26   391.10           3.72       5.65   1.3465\n",
              "...          ...    ...        ...      ...            ...        ...      ...\n",
              "7994  08/25/2021  13.91       0.08  1709.13          -1.67       5.40   1.1739\n",
              "7995  08/26/2021  13.91       0.08  1792.16          -1.66       5.40   1.1766\n",
              "7996  08/27/2021  13.91       0.08  1816.52          -1.74       5.40   1.1750\n",
              "7997  08/30/2021  13.91       0.08  1809.45          -1.74       5.40   1.1799\n",
              "7998  08/31/2021  13.91       0.08  1813.42          -1.71       5.40   1.1809\n",
              "\n",
              "[7999 rows x 7 columns]>"
            ]
          },
          "metadata": {},
          "execution_count": 31
        }
      ]
    },
    {
      "cell_type": "code",
      "metadata": {
        "id": "l9JR7ki74xYV"
      },
      "source": [
        "correlation = gold_data.corr()"
      ],
      "execution_count": 10,
      "outputs": []
    },
    {
      "cell_type": "code",
      "metadata": {
        "colab": {
          "base_uri": "https://localhost:8080/",
          "height": 532
        },
        "id": "ndlrJdYf43aX",
        "outputId": "1e459301-5950-43c2-af84-83b90d64cb5d"
      },
      "source": [
        "import matplotlib.pyplot as plt\n",
        "import seaborn as sns\n",
        "\n",
        "correlation = gold_data.corr()\n",
        "plt.figure(figsize = (8,8))\n",
        "sns.heatmap(correlation, cbar= True , square= True, fmt='.1f' , annot=True, annot_kws= {'size' :8 }, cmap='Blues') "
      ],
      "execution_count": 32,
      "outputs": [
        {
          "output_type": "execute_result",
          "data": {
            "text/plain": [
              "<matplotlib.axes._subplots.AxesSubplot at 0x7fdae6839350>"
            ]
          },
          "metadata": {},
          "execution_count": 32
        },
        {
          "output_type": "display_data",
          "data": {
            "image/png": "[encoded data removed]",
            "text/plain": [
              "<Figure size 576x576 with 2 Axes>"
            ]
          },
          "metadata": {
            "needs_background": "light"
          }
        }
      ]
    },
    {
      "cell_type": "code",
      "metadata": {
        "colab": {
          "base_uri": "https://localhost:8080/"
        },
        "id": "drnEO3DMBmF-",
        "outputId": "1e8c5cf9-f221-42b6-b507-2dcbc6827c7d"
      },
      "source": [
        "print(correlation['GOLD'])"
      ],
      "execution_count": 33,
      "outputs": [
        {
          "output_type": "stream",
          "name": "stdout",
          "text": [
            "M2               0.414789\n",
            "FED RATES       -0.688034\n",
            "GOLD             1.000000\n",
            "REAL INTEREST   -0.097429\n",
            "INFLATION       -0.234047\n",
            "US/EURO          0.281527\n",
            "Name: GOLD, dtype: float64\n"
          ]
        }
      ]
    },
    {
      "cell_type": "code",
      "metadata": {
        "colab": {
          "base_uri": "https://localhost:8080/",
          "height": 350
        },
        "id": "YYiDMaoqB4yo",
        "outputId": "0ba4fa5d-6903-4bf3-d113-680c64f46a1f"
      },
      "source": [
        "sns.distplot(gold_data['GOLD'],color='blue' )"
      ],
      "execution_count": 45,
      "outputs": [
        {
          "output_type": "stream",
          "name": "stderr",
          "text": [
            "/usr/local/lib/python3.7/dist-packages/seaborn/distributions.py:2557: FutureWarning: `distplot` is a deprecated function and will be removed in a future version. Please adapt your code to use either `displot` (a figure-level function with similar flexibility) or `histplot` (an axes-level function for histograms).\n",
            "  warnings.warn(msg, FutureWarning)\n"
          ]
        },
        {
          "output_type": "execute_result",
          "data": {
            "text/plain": [
              "<matplotlib.axes._subplots.AxesSubplot at 0x7fdae63ec110>"
            ]
          },
          "metadata": {},
          "execution_count": 45
        },
        {
          "output_type": "display_data",
          "data": {
            "image/png": "[encoded data removed]",
            "text/plain": [
              "<Figure size 432x288 with 1 Axes>"
            ]
          },
          "metadata": {
            "needs_background": "light"
          }
        }
      ]
    },
    {
      "cell_type": "code",
      "metadata": {
        "id": "QvsNEFipCMO3"
      },
      "source": [
        "X = gold_data.drop(['DATE', 'GOLD'], axis= 1)\n",
        "Y = gold_data['GOLD']"
      ],
      "execution_count": 38,
      "outputs": []
    },
    {
      "cell_type": "code",
      "metadata": {
        "colab": {
          "base_uri": "https://localhost:8080/"
        },
        "id": "eYd1e7R4CVRE",
        "outputId": "e95c866f-aa5d-4837-aac2-a8427c471e3d"
      },
      "source": [
        "print(X)"
      ],
      "execution_count": 36,
      "outputs": [
        {
          "output_type": "stream",
          "name": "stdout",
          "text": [
            "         M2  FED RATES  REAL INTEREST  INFLATION  US/EURO\n",
            "0      3.82       5.53           3.72       5.65   1.3772\n",
            "1      3.82       7.85           3.72       5.65   1.3773\n",
            "2      3.82       7.18           3.72       5.65   1.3777\n",
            "3      3.82       6.52           3.72       5.65   1.3675\n",
            "4      3.82       6.26           3.72       5.65   1.3465\n",
            "...     ...        ...            ...        ...      ...\n",
            "7994  13.91       0.08          -1.67       5.40   1.1739\n",
            "7995  13.91       0.08          -1.66       5.40   1.1766\n",
            "7996  13.91       0.08          -1.74       5.40   1.1750\n",
            "7997  13.91       0.08          -1.74       5.40   1.1799\n",
            "7998  13.91       0.08          -1.71       5.40   1.1809\n",
            "\n",
            "[7999 rows x 5 columns]\n"
          ]
        }
      ]
    },
    {
      "cell_type": "code",
      "metadata": {
        "colab": {
          "base_uri": "https://localhost:8080/"
        },
        "id": "wfUSDOpVCjPj",
        "outputId": "65399746-4d8a-48dc-c2d8-a9fc45910093"
      },
      "source": [
        "print(Y)"
      ],
      "execution_count": 16,
      "outputs": [
        {
          "output_type": "stream",
          "name": "stdout",
          "text": [
            "0        392.75\n",
            "1        390.80\n",
            "2        386.30\n",
            "3        387.40\n",
            "4        391.10\n",
            "         ...   \n",
            "7994    1709.13\n",
            "7995    1792.16\n",
            "7996    1816.52\n",
            "7997    1809.45\n",
            "7998    1813.42\n",
            "Name: GOLD, Length: 7999, dtype: float64\n"
          ]
        }
      ]
    },
    {
      "cell_type": "code",
      "metadata": {
        "id": "g5I1n8r-Cqom"
      },
      "source": [
        "from sklearn.model_selection import train_test_split\n",
        "\n",
        "X_train, X_test, Y_train, Y_test = train_test_split(X, Y, test_size = 0.2, random_state=2)"
      ],
      "execution_count": 44,
      "outputs": []
    },
    {
      "cell_type": "code",
      "metadata": {
        "colab": {
          "base_uri": "https://localhost:8080/"
        },
        "id": "RE4IrLwxC_mT",
        "outputId": "a40bdbb3-709f-4ba3-fec4-7cd08df51763"
      },
      "source": [
        "from sklearn.ensemble import RandomForestRegressor\n",
        "\n",
        "regressor = RandomForestRegressor(n_estimators=1000)\n",
        "\n",
        "regressor.fit(X_train, Y_train)"
      ],
      "execution_count": 40,
      "outputs": [
        {
          "output_type": "execute_result",
          "data": {
            "text/plain": [
              "RandomForestRegressor(bootstrap=True, ccp_alpha=0.0, criterion='mse',\n",
              "                      max_depth=None, max_features='auto', max_leaf_nodes=None,\n",
              "                      max_samples=None, min_impurity_decrease=0.0,\n",
              "                      min_impurity_split=None, min_samples_leaf=1,\n",
              "                      min_samples_split=2, min_weight_fraction_leaf=0.0,\n",
              "                      n_estimators=1000, n_jobs=None, oob_score=False,\n",
              "                      random_state=None, verbose=0, warm_start=False)"
            ]
          },
          "metadata": {},
          "execution_count": 40
        }
      ]
    },
    {
      "cell_type": "code",
      "metadata": {
        "colab": {
          "base_uri": "https://localhost:8080/"
        },
        "id": "1LpFkzLDDRwn",
        "outputId": "016705bd-81b0-44a1-d6ff-1bbe24b91ed5"
      },
      "source": [
        "test_data_prediction = regressor.predict(X_test)\n",
        "\n",
        "print(test_data_prediction)"
      ],
      "execution_count": 41,
      "outputs": [
        {
          "output_type": "stream",
          "name": "stdout",
          "text": [
            "[1215.10378  387.18705 1570.78205 ...  407.37415  256.2967  1291.62045]\n"
          ]
        }
      ]
    },
    {
      "cell_type": "code",
      "metadata": {
        "colab": {
          "base_uri": "https://localhost:8080/"
        },
        "id": "PbftTKqcDfjq",
        "outputId": "915553f1-160b-4b41-b099-dfcc452a7943"
      },
      "source": [
        "from sklearn import metrics\n",
        "error_score = metrics.r2_score(Y_test, test_data_prediction)\n",
        "print(\"R squared: \" ,error_score)"
      ],
      "execution_count": 42,
      "outputs": [
        {
          "output_type": "stream",
          "name": "stdout",
          "text": [
            "R squared:  0.9791777611453276\n"
          ]
        }
      ]
    },
    {
      "cell_type": "code",
      "metadata": {
        "colab": {
          "base_uri": "https://localhost:8080/",
          "height": 295
        },
        "id": "rtmLSRZiDqST",
        "outputId": "743d283a-0bd3-437d-9b7b-e953010ceb82"
      },
      "source": [
        "Y_test = list (Y_test)\n",
        "\n",
        "plt.plot(Y_test, color='Blue', label ='Actual Value')\n",
        "plt.plot(test_data_prediction, color='red', label = 'Predicted Value')\n",
        "plt.title('Actual Price Vs Predicted Price')\n",
        "plt.xlabel('Number of values')\n",
        "plt.ylabel('GOLD')\n",
        "plt.legend()\n",
        "plt.show()"
      ],
      "execution_count": 43,
      "outputs": [
        {
          "output_type": "display_data",
          "data": {
            "image/png": "[encoded data removed]",
            "text/plain": [
              "<Figure size 432x288 with 1 Axes>"
            ]
          },
          "metadata": {
            "needs_background": "light"
          }
        }
      ]
    }
  ]
}